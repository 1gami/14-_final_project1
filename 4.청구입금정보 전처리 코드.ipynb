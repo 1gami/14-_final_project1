{
 "cells": [
  {
   "cell_type": "markdown",
   "id": "6124e895",
   "metadata": {},
   "source": [
    "# 2. 신용정보 추가적 전처리\n",
    "int -> object, type변환\n",
    "대표결제방법코드 column 제거"
   ]
  },
  {
   "cell_type": "code",
   "execution_count": null,
   "id": "fe0634e8",
   "metadata": {},
   "outputs": [],
   "source": [
    "import os\n",
    "import gc\n",
    "import pandas as pd\n",
    "\n",
    "os.chdir('C:/Users/Money/Documents/final_project')\n",
    "\n",
    "df1 = pd.read_parquet(('4.청구입금정보_all_month.parquet'))"
   ]
  },
  {
   "cell_type": "code",
   "execution_count": 12,
   "id": "0c6b9a44",
   "metadata": {},
   "outputs": [],
   "source": [
    "df1.drop('대표결제방법코드', axis=1, inplace=True)"
   ]
  },
  {
   "cell_type": "code",
   "execution_count": 13,
   "id": "3ded712c",
   "metadata": {},
   "outputs": [
    {
     "name": "stdout",
     "output_type": "stream",
     "text": [
      "<class 'pandas.core.frame.DataFrame'>\n",
      "Index: 2400000 entries, 0 to 399999\n",
      "Data columns (total 45 columns):\n",
      " #   Column            Dtype \n",
      "---  ------            ----- \n",
      " 0   기준년월              int64 \n",
      " 1   ID                object\n",
      " 2   대표결제일             int64 \n",
      " 3   대표청구지고객주소구분코드     object\n",
      " 4   대표청구서수령지구분코드      object\n",
      " 5   청구서수령방법           object\n",
      " 6   청구서발송여부_B0        int64 \n",
      " 7   청구서발송여부_R3M       int64 \n",
      " 8   청구서발송여부_R6M       int64 \n",
      " 9   청구금액_B0           int64 \n",
      " 10  청구금액_R3M          int64 \n",
      " 11  청구금액_R6M          int64 \n",
      " 12  포인트_마일리지_건별_B0M   int64 \n",
      " 13  포인트_마일리지_건별_R3M   int64 \n",
      " 14  포인트_포인트_건별_B0M    int64 \n",
      " 15  포인트_포인트_건별_R3M    int64 \n",
      " 16  포인트_마일리지_월적립_B0M  int64 \n",
      " 17  포인트_마일리지_월적립_R3M  int64 \n",
      " 18  포인트_포인트_월적립_B0M   int64 \n",
      " 19  포인트_포인트_월적립_R3M   int64 \n",
      " 20  포인트_적립포인트_R12M    int64 \n",
      " 21  포인트_적립포인트_R3M     int64 \n",
      " 22  포인트_이용포인트_R12M    int64 \n",
      " 23  포인트_이용포인트_R3M     int64 \n",
      " 24  포인트_잔여포인트_B0M     int64 \n",
      " 25  마일_적립포인트_R12M     int64 \n",
      " 26  마일_적립포인트_R3M      int64 \n",
      " 27  마일_이용포인트_R12M     int64 \n",
      " 28  마일_이용포인트_R3M      int64 \n",
      " 29  마일_잔여포인트_B0M      int64 \n",
      " 30  할인건수_R3M          object\n",
      " 31  할인금액_R3M          int64 \n",
      " 32  할인건수_B0M          object\n",
      " 33  할인금액_B0M          int64 \n",
      " 34  할인금액_청구서_R3M      int64 \n",
      " 35  할인금액_청구서_B0M      int64 \n",
      " 36  상환개월수_결제일_R6M     int64 \n",
      " 37  상환개월수_결제일_R3M     int64 \n",
      " 38  선결제건수_R6M         int64 \n",
      " 39  선결제건수_R3M         int64 \n",
      " 40  연체건수_R6M          int64 \n",
      " 41  연체건수_R3M          int64 \n",
      " 42  혜택수혜금액_R3M        int64 \n",
      " 43  포인트_마일리지_환산_B0M   int64 \n",
      " 44  혜택수혜금액            int64 \n",
      "dtypes: int64(39), object(6)\n",
      "memory usage: 842.3+ MB\n"
     ]
    }
   ],
   "source": [
    "df1.info()"
   ]
  },
  {
   "cell_type": "code",
   "execution_count": 14,
   "id": "bd5cc2eb",
   "metadata": {},
   "outputs": [],
   "source": [
    "# object형으로 변환하고 싶은 컬럼 리스트\n",
    "columns_to_convert = ['청구서발송여부_B0','청구서발송여부_R3M','청구서발송여부_R6M','선결제건수_R6M','선결제건수_R3M','연체건수_R6M','연체건수_R3M']\n",
    "\n",
    "# 각 컬럼을 object형으로 변환\n",
    "df1[columns_to_convert] = df1[columns_to_convert].astype('object')"
   ]
  },
  {
   "cell_type": "code",
   "execution_count": 15,
   "id": "b5e2ad7c",
   "metadata": {},
   "outputs": [],
   "source": [
    "df1.to_parquet('4.청구입금정보_전처리완.parquet')"
   ]
  }
 ],
 "metadata": {
  "kernelspec": {
   "display_name": "Python (conda-base)",
   "language": "python",
   "name": "base"
  },
  "language_info": {
   "codemirror_mode": {
    "name": "ipython",
    "version": 3
   },
   "file_extension": ".py",
   "mimetype": "text/x-python",
   "name": "python",
   "nbconvert_exporter": "python",
   "pygments_lexer": "ipython3",
   "version": "3.11.4"
  }
 },
 "nbformat": 4,
 "nbformat_minor": 5
}
