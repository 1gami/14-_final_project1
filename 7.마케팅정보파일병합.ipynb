{
  "cells": [
    {
      "cell_type": "code",
      "metadata": {},
      "source": [
        "import os\n",
        "import glob\n",
        "import pandas as pd\n",
        "\n",
        "RAW_DIR = r'C:/Users/jk972/OneDrive/Desktop/workspace/open/train/7.\ub9c8\ucf00\ud305\uc815\ubcf4'\n",
        "SAVE_DIR = os.getcwd()\n",
        "\n",
        "parquet_files = sorted(glob.glob(os.path.join(RAW_DIR, '*.parquet')))\n",
        "print(f'\ubd88\ub7ec\uc62c \ud30c\uc77c: {parquet_files}')\n",
        "\n",
        "df_list = [pd.read_parquet(f) for f in parquet_files]\n",
        "df = pd.concat(df_list, ignore_index=True)\n",
        "print(f'\uc804\uccb4 shape: {df.shape}')\n",
        "\n",
        "df.to_parquet(os.path.join(SAVE_DIR, '7.\ub9c8\ucf00\ud305\uc815\ubcf4_\ubcd1\ud569.parquet'))\n",
        "print('\ubcd1\ud569 \ub370\uc774\ud130 \uc800\uc7a5 \uc644\ub8cc!')\n",
        "\n",
        "# \ubcd1\ud569 \ub370\uc774\ud130 \uae30\ucd08 \ud1b5\uacc4\n",
        "eda_report = df.describe(include='all').T\n",
        "eda_report.to_excel(os.path.join(SAVE_DIR, '7.\ub9c8\ucf00\ud305\uc815\ubcf4_EDA_report.xlsx'))\n",
        "print('EDA \ub9ac\ud3ec\ud2b8 \uc800\uc7a5 \uc644\ub8cc!') "
      ],
      "outputs": [],
      "execution_count": null
    }
  ],
  "metadata": {
    "anaconda-cloud": {},
    "kernelspec": {
      "display_name": "Python 3",
      "language": "python",
      "name": "python3"
    },
    "language_info": {
      "codemirror_mode": {
        "name": "ipython",
        "version": 3
      },
      "file_extension": ".py",
      "mimetype": "text/x-python",
      "name": "python",
      "nbconvert_exporter": "python",
      "pygments_lexer": "ipython3",
      "version": "3.6.1"
    }
  },
  "nbformat": 4,
  "nbformat_minor": 4
}