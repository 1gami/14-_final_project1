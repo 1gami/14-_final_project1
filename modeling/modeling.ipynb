{
 "cells": [
  {
   "cell_type": "code",
   "execution_count": null,
   "id": "0eb7ccb1",
   "metadata": {},
   "outputs": [],
   "source": [
    "from psutil import virtual_memory\n",
    "ram_gb = virtual_memory().total / 1e9\n",
    "print('{:.1f}GB RAM\\n'.format(ram_gb))\n",
    "\n",
    "if ram_gb < 20:\n",
    "  print('고성능 램 사용 안하고 있네')\n",
    "else:\n",
    "  print('고성능 램 사용중ㅋ!')"
   ]
  },
  {
   "cell_type": "markdown",
   "id": "47073c13",
   "metadata": {},
   "source": [
    "# Package Install"
   ]
  },
  {
   "cell_type": "code",
   "execution_count": null,
   "id": "5a638795",
   "metadata": {},
   "outputs": [],
   "source": [
    "!pip install catboost==1.2.8\n",
    "!pip install optuna==4.4.0"
   ]
  },
  {
   "cell_type": "markdown",
   "id": "1ef0a60c",
   "metadata": {},
   "source": [
    "# Library load"
   ]
  },
  {
   "cell_type": "code",
   "execution_count": null,
   "id": "af8f4036",
   "metadata": {},
   "outputs": [],
   "source": [
    "import pandas as pd\n",
    "import numpy as np\n",
    "import os\n",
    "from catboost import CatBoostClassifier, Pool\n",
    "from sklearn.model_selection import train_test_split\n",
    "from sklearn.model_selection import StratifiedKFold\n",
    "from sklearn.metrics import accuracy_score\n",
    "from sklearn.preprocessing import LabelEncoder\n",
    "import optuna"
   ]
  },
  {
   "cell_type": "markdown",
   "id": "6b7a1fed",
   "metadata": {},
   "source": [
    "# Data Load"
   ]
  },
  {
   "cell_type": "code",
   "execution_count": null,
   "id": "d967819e",
   "metadata": {},
   "outputs": [],
   "source": [
    "test = pd.read_parquet('test.parquet')\n",
    "train = pd.read_parquet('train.parquet')"
   ]
  },
  {
   "cell_type": "markdown",
   "id": "55a4878f",
   "metadata": {},
   "source": [
    "# Target data split (Segment = [C,D,E])"
   ]
  },
  {
   "cell_type": "code",
   "execution_count": null,
   "id": "c191001f",
   "metadata": {},
   "outputs": [],
   "source": [
    "ab_ids = train[train['Segment'].isin(['A', 'B'])]['ID'].unique()\n",
    "train = train[~train['ID'].isin(ab_ids)].copy()\n",
    "train['Segment'].value_counts()"
   ]
  },
  {
   "cell_type": "code",
   "execution_count": null,
   "id": "4b9e2f99",
   "metadata": {},
   "outputs": [],
   "source": [
    "# target data Encoding\n",
    "label_encoder = LabelEncoder()\n",
    "train['Segment'] = label_encoder.fit_transform(train['Segment'])\n",
    "\n",
    "# feature, target sep\n",
    "X = train.drop(columns=['Segment', 'ID'])\n",
    "y = train['Segment']\n",
    "X_test = test.drop(columns=['ID'])\n",
    "\n",
    "# Def cat_features\n",
    "cat_features = [col for col in X.columns if X[col].dtype == 'object']\n",
    "for col in cat_features:\n",
    "    X[col] = X[col].astype(str)\n",
    "    X_test[col] = X_test[col].astype(str)"
   ]
  },
  {
   "cell_type": "markdown",
   "id": "b6bec401",
   "metadata": {},
   "source": [
    "# Modeling (Segment = [C,D,E])"
   ]
  },
  {
   "cell_type": "code",
   "execution_count": null,
   "id": "bf604082",
   "metadata": {},
   "outputs": [],
   "source": [
    "# seed 설정\n",
    "seed = 14\n",
    "\n",
    "# 모델 정의\n",
    "def objective(trial):\n",
    "    bootstrap_type = trial.suggest_categorical('bootstrap_type', ['Bayesian', 'Bernoulli'])\n",
    "\n",
    "    params = {\n",
    "        'iterations': 1500,\n",
    "        'learning_rate': trial.suggest_float(\"learning_rate\", 0.01, 0.3),\n",
    "        'depth': 8,\n",
    "        'l2_leaf_reg': trial.suggest_float(\"l2_leaf_reg\", 1.0, 10.0),\n",
    "        'random_strength': trial.suggest_float(\"random_strength\", 1e-9, 10.0),\n",
    "        'border_count': trial.suggest_int(\"border_count\", 32, 255),\n",
    "        'bootstrap_type': bootstrap_type,\n",
    "        'task_type': 'GPU', # colab A100 사용 중\n",
    "        'loss_function': 'MultiClass',\n",
    "        'eval_metric': 'Accuracy',  # 평가지표 Accuracy\n",
    "        'verbose': 0,\n",
    "        'random_seed': seed,\n",
    "        'class_weights': [2, 1, 1]\n",
    "    }\n",
    "\n",
    "    if bootstrap_type == 'Bayesian':\n",
    "        params['bagging_temperature'] = trial.suggest_float(\"bagging_temperature\", 0.0, 1.0)\n",
    "    else:\n",
    "        params['subsample'] = trial.suggest_float(\"subsample\", 0.5, 1.0)\n",
    "\n",
    "    X_train_sub, X_valid, y_train_sub, y_valid = train_test_split(\n",
    "        X, y, test_size=0.2, stratify=y, random_state=seed\n",
    "    ) # 1차적으로 test_size = 0.2로 줌\n",
    "\n",
    "    model = CatBoostClassifier(**params)\n",
    "    model.fit(\n",
    "        X_train_sub, y_train_sub,\n",
    "        eval_set=(X_valid, y_valid),\n",
    "        cat_features=cat_features,\n",
    "        use_best_model=True,\n",
    "        early_stopping_rounds=100\n",
    "    )\n",
    "\n",
    "    preds = model.predict(X_valid)\n",
    "    score = accuracy_score(y_valid, preds)\n",
    "    return score\n",
    "\n",
    "study = optuna.create_study(direction='maximize')\n",
    "study.optimize(objective, n_trials=5) # 모델 잘 돌아가는지 보기위해 5회만 실행\n",
    "\n",
    "best_params = study.best_trial.params\n",
    "\n",
    "if best_params['bootstrap_type'] == 'Bayesian':\n",
    "    best_params['bagging_temperature'] = study.best_trial.params['bagging_temperature']\n",
    "else:\n",
    "    best_params['subsample'] = study.best_trial.params['subsample']\n",
    "  \n",
    "best_params.update({\n",
    "    'iterations': 1500,\n",
    "    'loss_function': 'MultiClass',\n",
    "    'eval_metric': 'Accuracy',\n",
    "    'task_type': 'GPU',\n",
    "    'verbose': 100,\n",
    "    'random_seed': seed,\n",
    "    'class_weights': [2, 1, 1],\n",
    "    'depth': 8\n",
    "})"
   ]
  },
  {
   "cell_type": "code",
   "execution_count": null,
   "id": "2afab4d0",
   "metadata": {},
   "outputs": [],
   "source": [
    "# Stratified K-Fold(10) 적용\n",
    "\n",
    "n_classes = len(np.unique(y))\n",
    "kf = StratifiedKFold(n_splits=10, shuffle=True, random_state=seed)\n",
    "all_test_probs = np.zeros((X_test.shape[0], n_classes))\n",
    "\n",
    "for fold, (train_idx, valid_idx) in enumerate(kf.split(X, y)):\n",
    "    print(f\"🚀 Fold {fold+1} training...\")\n",
    "\n",
    "    X_train_fold, y_train_fold = X.iloc[train_idx], y.iloc[train_idx]\n",
    "    X_valid_fold, y_valid_fold = X.iloc[valid_idx], y.iloc[valid_idx]\n",
    "\n",
    "    model = CatBoostClassifier(**best_params)\n",
    "    model.fit(X_train_fold, y_train_fold, cat_features=cat_features)\n",
    "\n",
    "    fold_probs = model.predict_proba(X_test)\n",
    "    all_test_probs += fold_probs\n",
    "\n",
    "avg_test_probs = all_test_probs / kf.get_n_splits()\n",
    "prob_df = pd.DataFrame(avg_test_probs, columns=range(n_classes))\n",
    "prob_df['ID'] = test['ID'].values\n",
    "\n",
    "mean_probs = prob_df.groupby('ID').mean().reset_index()\n",
    "mean_probs['Segment'] = mean_probs.drop(columns='ID').values.argmax(axis=1)\n",
    "\n",
    "segment_mapping = {0: 'C', 1: 'D', 2: 'E'}\n",
    "mean_probs['Segment'] = mean_probs['Segment'].map(segment_mapping)\n",
    "\n",
    "submission = pd.DataFrame({'ID': mean_probs['ID'], 'Segment': mean_probs['Segment']})\n",
    "submission.to_csv('base_catboost_kfold.csv', index=False)\n",
    "\n",
    "print(\"예측 완료\")"
   ]
  },
  {
   "cell_type": "markdown",
   "id": "ad31dca5",
   "metadata": {},
   "source": []
  },
  {
   "cell_type": "markdown",
   "id": "21639ebc",
   "metadata": {},
   "source": [
    "# Modeling (Segment = [A, B])"
   ]
  }
 ],
 "metadata": {
  "language_info": {
   "name": "python"
  }
 },
 "nbformat": 4,
 "nbformat_minor": 5
}
