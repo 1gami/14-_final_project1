{
 "cells": [
  {
   "cell_type": "markdown",
   "id": "f8a3aefb",
   "metadata": {},
   "source": [
    "# 회원정보 전처리 (1차)"
   ]
  },
  {
   "cell_type": "code",
   "execution_count": 27,
   "id": "30c29ce2",
   "metadata": {},
   "outputs": [],
   "source": [
    "import os\n",
    "import pandas as pd\n",
    "import gc\n",
    "import numpy as np\n",
    "\n",
    "os.chdir(\"C:/Users/Money/Documents/final_project\")\n",
    "df1회원정보 = pd.read_parquet(\"1.회원정보_all_month.parquet\")\n",
    "df1 = df1회원정보.drop('Segment', axis=1)\n",
    "y = df1회원정보['Segment']"
   ]
  },
  {
   "cell_type": "code",
   "execution_count": 28,
   "id": "671bacb9",
   "metadata": {},
   "outputs": [
    {
     "name": "stdout",
     "output_type": "stream",
     "text": [
      "['ID', '연령', '가입통신회사코드', '거주시도명', '직장시도명', '_1순위신용체크구분', '_2순위신용체크구분', '연회비발생카드수_B0M', '상품관련면제카드수_B0M', '임직원면제카드수_B0M', '우수회원면제카드수_B0M', '기타면제카드수_B0M', 'Life_Stage']\n"
     ]
    }
   ],
   "source": [
    "# 결측처리 (범주형)\n",
    "# 범주형 데이터만 추출해 리스트에 넣음\n",
    "categorical_cols = df1.select_dtypes(include=['object']).columns.tolist()\n",
    "print(categorical_cols)"
   ]
  },
  {
   "cell_type": "code",
   "execution_count": 29,
   "id": "ed7f59ae",
   "metadata": {},
   "outputs": [
    {
     "name": "stdout",
     "output_type": "stream",
     "text": [
      "['가입통신회사코드', '직장시도명', '_1순위신용체크구분', '_2순위신용체크구분']\n"
     ]
    }
   ],
   "source": [
    "# 범주형 데이터 중 결측치가 존재하는 행만 재할당\n",
    "categorical_with_na = [col for col in categorical_cols if df1[col].isnull().any()]\n",
    "print(categorical_with_na)"
   ]
  },
  {
   "cell_type": "code",
   "execution_count": 30,
   "id": "710c9b4b",
   "metadata": {},
   "outputs": [],
   "source": [
    "# 결측치 '기타'로 대체\n",
    "df1[categorical_with_na] = df1[categorical_with_na].fillna('기타')"
   ]
  },
  {
   "cell_type": "code",
   "execution_count": 31,
   "id": "3a28fa72",
   "metadata": {},
   "outputs": [
    {
     "name": "stdout",
     "output_type": "stream",
     "text": [
      "['기준년월', '남녀구분코드', '회원여부_이용가능', '회원여부_이용가능_CA', '회원여부_이용가능_카드론', '소지여부_신용', '소지카드수_유효_신용', '소지카드수_이용가능_신용', '입회일자_신용', '입회경과개월수_신용', '회원여부_연체', '이용거절여부_카드론', '동의여부_한도증액안내', '수신거부여부_TM', '수신거부여부_DM', '수신거부여부_메일', '수신거부여부_SMS', '탈회횟수_누적', '최종탈회후경과월', '탈회횟수_발급6개월이내', '탈회횟수_발급1년이내', '마케팅동의여부', '유효카드수_신용체크', '유효카드수_신용', '유효카드수_신용_가족', '유효카드수_체크', '유효카드수_체크_가족', '이용가능카드수_신용체크', '이용가능카드수_신용', '이용가능카드수_신용_가족', '이용가능카드수_체크', '이용가능카드수_체크_가족', '이용카드수_신용체크', '이용카드수_신용', '이용카드수_신용_가족', '이용카드수_체크', '이용카드수_체크_가족', '이용금액_R3M_신용체크', '이용금액_R3M_신용', '이용금액_R3M_신용_가족', '이용금액_R3M_체크', '이용금액_R3M_체크_가족', '_1순위카드이용금액', '_1순위카드이용건수', '_2순위카드이용금액', '_2순위카드이용건수', '최종유효년월_신용_이용가능', '최종유효년월_신용_이용', '최종카드발급일자', '보유여부_해외겸용_본인', '이용가능여부_해외겸용_본인', '이용여부_3M_해외겸용_본인', '보유여부_해외겸용_신용_본인', '이용가능여부_해외겸용_신용_본인', '이용여부_3M_해외겸용_신용_본인', '연회비할인카드수_B0M', '기본연회비_B0M', '제휴연회비_B0M', '할인금액_기본연회비_B0M', '할인금액_제휴연회비_B0M', '청구금액_기본연회비_B0M', '청구금액_제휴연회비_B0M', '카드신청건수', '최종카드발급경과월']\n"
     ]
    }
   ],
   "source": [
    "# 결측처리 (수치형)\n",
    "# 수치형 데이터(int, float)만 추출해 리스트에 넣음\n",
    "numeric_cols = df1.select_dtypes(include=['number']).columns.tolist()\n",
    "print(numeric_cols)"
   ]
  },
  {
   "cell_type": "code",
   "execution_count": 32,
   "id": "373a69fe",
   "metadata": {},
   "outputs": [
    {
     "name": "stdout",
     "output_type": "stream",
     "text": [
      "['최종유효년월_신용_이용가능', '최종유효년월_신용_이용', '최종카드발급일자']\n"
     ]
    }
   ],
   "source": [
    "# 수치형 데이터 중 결측치가 존재하는 행만 재할당\n",
    "numeric_cols_na = [col for col in numeric_cols if df1[col].isnull().any()]\n",
    "print(numeric_cols_na)"
   ]
  },
  {
   "cell_type": "code",
   "execution_count": 33,
   "id": "8605b232",
   "metadata": {},
   "outputs": [],
   "source": [
    "# 결측치 각 행의 평균으로 대체\n",
    "for col in numeric_cols_na:\n",
    "    df1[col].fillna(df1[col].mean(), inplace=True)"
   ]
  },
  {
   "cell_type": "code",
   "execution_count": 34,
   "id": "d1e40f13",
   "metadata": {},
   "outputs": [
    {
     "name": "stdout",
     "output_type": "stream",
     "text": [
      "          기준년월            ID  남녀구분코드     연령  회원여부_이용가능  회원여부_이용가능_CA  \\\n",
      "0       201807  TRAIN_000000       2    40대          1             1   \n",
      "1       201807  TRAIN_000001       1    30대          1             1   \n",
      "2       201807  TRAIN_000002       1    30대          1             1   \n",
      "3       201807  TRAIN_000003       2    40대          1             1   \n",
      "4       201807  TRAIN_000004       2    40대          1             1   \n",
      "...        ...           ...     ...    ...        ...           ...   \n",
      "399995  201812  TRAIN_399995       2  70대이상          1             1   \n",
      "399996  201812  TRAIN_399996       2    50대          1             1   \n",
      "399997  201812  TRAIN_399997       1    30대          1             1   \n",
      "399998  201812  TRAIN_399998       1    40대          1             1   \n",
      "399999  201812  TRAIN_399999       2    40대          1             1   \n",
      "\n",
      "        회원여부_이용가능_카드론  소지여부_신용  소지카드수_유효_신용  소지카드수_이용가능_신용  ...  \\\n",
      "0                   0        1            1              1  ...   \n",
      "1                   1        1            1              1  ...   \n",
      "2                   0        1            1              1  ...   \n",
      "3                   0        1            2              2  ...   \n",
      "4                   1        1            1              1  ...   \n",
      "...               ...      ...          ...            ...  ...   \n",
      "399995              1        1            1              1  ...   \n",
      "399996              1        1            1              1  ...   \n",
      "399997              0        1            1              1  ...   \n",
      "399998              1        1            1              1  ...   \n",
      "399999              0        1            1              1  ...   \n",
      "\n",
      "        이용가능여부_해외겸용_신용_본인  이용여부_3M_해외겸용_신용_본인  연회비발생카드수_B0M  기본연회비_B0M  \\\n",
      "0                       0                   0            0개          0   \n",
      "1                       0                   0            0개          0   \n",
      "2                       0                   0            0개          0   \n",
      "3                       1                   1            0개          0   \n",
      "4                       0                   0            0개          0   \n",
      "...                   ...                 ...           ...        ...   \n",
      "399995                  1                   0            0개          0   \n",
      "399996                  1                   1            0개          0   \n",
      "399997                  1                   1            0개          0   \n",
      "399998                  0                   0            0개          0   \n",
      "399999                  0                   0            0개          0   \n",
      "\n",
      "        제휴연회비_B0M  청구금액_기본연회비_B0M  청구금액_제휴연회비_B0M  카드신청건수  Life_Stage  \\\n",
      "0               0               0               0       0     자녀성장(2)   \n",
      "1               0               0               0       0     자녀성장(1)   \n",
      "2               0               0               0       0       자녀출산기   \n",
      "3               0               0               0       1     자녀성장(2)   \n",
      "4               0               0               0       1     자녀성장(1)   \n",
      "...           ...             ...             ...     ...         ...   \n",
      "399995          0               0               0       0        노년생활   \n",
      "399996          0               0               0       0     자녀성장(2)   \n",
      "399997          0               0               0       0       자녀출산기   \n",
      "399998          0               0               0       0     자녀성장(1)   \n",
      "399999          0               0               0       0     자녀성장(1)   \n",
      "\n",
      "       최종카드발급경과월  \n",
      "0             22  \n",
      "1             18  \n",
      "2             20  \n",
      "3             17  \n",
      "4             15  \n",
      "...          ...  \n",
      "399995        39  \n",
      "399996        24  \n",
      "399997        18  \n",
      "399998        27  \n",
      "399999        18  \n",
      "\n",
      "[2400000 rows x 68 columns]\n"
     ]
    }
   ],
   "source": [
    "# 수치형 0, 문자형 0, 문자형 0개 인 값으로만 이뤄진 컬럼 제거\n",
    "allowed_values = {0, '0', '0개'}\n",
    "\n",
    "df1_0_columns = df1.columns[\n",
    "    df1.apply(lambda col: set(col.unique()).issubset(allowed_values))\n",
    "].tolist()\n",
    "\n",
    "# print(df1_0_columns)\n",
    "\n",
    "df1_filtered = df1.drop(columns=df1_0_columns)\n",
    "\n",
    "# total df\n",
    "print(df1_filtered)"
   ]
  },
  {
   "cell_type": "code",
   "execution_count": 35,
   "id": "0c59c888",
   "metadata": {},
   "outputs": [
    {
     "data": {
      "application/vnd.microsoft.datawrangler.viewer.v0+json": {
       "columns": [
        {
         "name": "index",
         "rawType": "object",
         "type": "string"
        },
        {
         "name": "0",
         "rawType": "int64",
         "type": "integer"
        }
       ],
       "ref": "e5a4976d-f589-40a8-96ae-e9b1ea2ec7ba",
       "rows": [
        [
         "기준년월",
         "0"
        ],
        [
         "ID",
         "0"
        ],
        [
         "남녀구분코드",
         "0"
        ],
        [
         "연령",
         "0"
        ],
        [
         "회원여부_이용가능",
         "0"
        ],
        [
         "회원여부_이용가능_CA",
         "0"
        ],
        [
         "회원여부_이용가능_카드론",
         "0"
        ],
        [
         "소지여부_신용",
         "0"
        ],
        [
         "소지카드수_유효_신용",
         "0"
        ],
        [
         "소지카드수_이용가능_신용",
         "0"
        ],
        [
         "입회일자_신용",
         "0"
        ],
        [
         "입회경과개월수_신용",
         "0"
        ],
        [
         "회원여부_연체",
         "0"
        ],
        [
         "이용거절여부_카드론",
         "0"
        ],
        [
         "동의여부_한도증액안내",
         "0"
        ],
        [
         "수신거부여부_TM",
         "0"
        ],
        [
         "수신거부여부_DM",
         "0"
        ],
        [
         "수신거부여부_메일",
         "0"
        ],
        [
         "수신거부여부_SMS",
         "0"
        ],
        [
         "가입통신회사코드",
         "0"
        ],
        [
         "탈회횟수_누적",
         "0"
        ],
        [
         "최종탈회후경과월",
         "0"
        ],
        [
         "탈회횟수_발급6개월이내",
         "0"
        ],
        [
         "탈회횟수_발급1년이내",
         "0"
        ],
        [
         "거주시도명",
         "0"
        ],
        [
         "직장시도명",
         "0"
        ],
        [
         "마케팅동의여부",
         "0"
        ],
        [
         "유효카드수_신용체크",
         "0"
        ],
        [
         "유효카드수_신용",
         "0"
        ],
        [
         "유효카드수_신용_가족",
         "0"
        ],
        [
         "유효카드수_체크",
         "0"
        ],
        [
         "유효카드수_체크_가족",
         "0"
        ],
        [
         "이용가능카드수_신용체크",
         "0"
        ],
        [
         "이용가능카드수_신용",
         "0"
        ],
        [
         "이용가능카드수_신용_가족",
         "0"
        ],
        [
         "이용가능카드수_체크",
         "0"
        ],
        [
         "이용가능카드수_체크_가족",
         "0"
        ],
        [
         "이용카드수_신용체크",
         "0"
        ],
        [
         "이용카드수_신용",
         "0"
        ],
        [
         "이용카드수_신용_가족",
         "0"
        ],
        [
         "이용카드수_체크",
         "0"
        ],
        [
         "이용카드수_체크_가족",
         "0"
        ],
        [
         "이용금액_R3M_신용체크",
         "0"
        ],
        [
         "이용금액_R3M_신용",
         "0"
        ],
        [
         "이용금액_R3M_신용_가족",
         "0"
        ],
        [
         "이용금액_R3M_체크",
         "0"
        ],
        [
         "이용금액_R3M_체크_가족",
         "0"
        ],
        [
         "_1순위카드이용금액",
         "0"
        ],
        [
         "_1순위카드이용건수",
         "0"
        ],
        [
         "_1순위신용체크구분",
         "0"
        ]
       ],
       "shape": {
        "columns": 1,
        "rows": 77
       }
      },
      "text/plain": [
       "기준년월             0\n",
       "ID               0\n",
       "남녀구분코드           0\n",
       "연령               0\n",
       "회원여부_이용가능        0\n",
       "                ..\n",
       "우수회원면제카드수_B0M    0\n",
       "기타면제카드수_B0M      0\n",
       "카드신청건수           0\n",
       "Life_Stage       0\n",
       "최종카드발급경과월        0\n",
       "Length: 77, dtype: int64"
      ]
     },
     "execution_count": 35,
     "metadata": {},
     "output_type": "execute_result"
    }
   ],
   "source": [
    "df1.isna().sum()"
   ]
  },
  {
   "cell_type": "code",
   "execution_count": null,
   "id": "dc703ad3",
   "metadata": {},
   "outputs": [
    {
     "data": {
      "application/vnd.microsoft.datawrangler.viewer.v0+json": {
       "columns": [
        {
         "name": "index",
         "rawType": "int64",
         "type": "integer"
        },
        {
         "name": "기준년월",
         "rawType": "int64",
         "type": "integer"
        },
        {
         "name": "ID",
         "rawType": "object",
         "type": "string"
        },
        {
         "name": "남녀구분코드",
         "rawType": "int64",
         "type": "integer"
        },
        {
         "name": "연령",
         "rawType": "object",
         "type": "string"
        },
        {
         "name": "회원여부_이용가능",
         "rawType": "int64",
         "type": "integer"
        },
        {
         "name": "회원여부_이용가능_CA",
         "rawType": "int64",
         "type": "integer"
        },
        {
         "name": "회원여부_이용가능_카드론",
         "rawType": "int64",
         "type": "integer"
        },
        {
         "name": "소지여부_신용",
         "rawType": "int64",
         "type": "integer"
        },
        {
         "name": "소지카드수_유효_신용",
         "rawType": "int64",
         "type": "integer"
        },
        {
         "name": "소지카드수_이용가능_신용",
         "rawType": "int64",
         "type": "integer"
        },
        {
         "name": "입회일자_신용",
         "rawType": "int64",
         "type": "integer"
        },
        {
         "name": "입회경과개월수_신용",
         "rawType": "int64",
         "type": "integer"
        },
        {
         "name": "회원여부_연체",
         "rawType": "int64",
         "type": "integer"
        },
        {
         "name": "이용거절여부_카드론",
         "rawType": "int64",
         "type": "integer"
        },
        {
         "name": "동의여부_한도증액안내",
         "rawType": "int64",
         "type": "integer"
        },
        {
         "name": "수신거부여부_TM",
         "rawType": "int64",
         "type": "integer"
        },
        {
         "name": "수신거부여부_DM",
         "rawType": "int64",
         "type": "integer"
        },
        {
         "name": "수신거부여부_메일",
         "rawType": "int64",
         "type": "integer"
        },
        {
         "name": "수신거부여부_SMS",
         "rawType": "int64",
         "type": "integer"
        },
        {
         "name": "가입통신회사코드",
         "rawType": "object",
         "type": "string"
        },
        {
         "name": "탈회횟수_누적",
         "rawType": "int64",
         "type": "integer"
        },
        {
         "name": "최종탈회후경과월",
         "rawType": "int64",
         "type": "integer"
        },
        {
         "name": "탈회횟수_발급6개월이내",
         "rawType": "int64",
         "type": "integer"
        },
        {
         "name": "탈회횟수_발급1년이내",
         "rawType": "int64",
         "type": "integer"
        },
        {
         "name": "거주시도명",
         "rawType": "object",
         "type": "string"
        },
        {
         "name": "직장시도명",
         "rawType": "object",
         "type": "string"
        },
        {
         "name": "마케팅동의여부",
         "rawType": "int64",
         "type": "integer"
        },
        {
         "name": "유효카드수_신용체크",
         "rawType": "int64",
         "type": "integer"
        },
        {
         "name": "유효카드수_신용",
         "rawType": "int64",
         "type": "integer"
        },
        {
         "name": "유효카드수_신용_가족",
         "rawType": "int64",
         "type": "integer"
        },
        {
         "name": "유효카드수_체크",
         "rawType": "int64",
         "type": "integer"
        },
        {
         "name": "유효카드수_체크_가족",
         "rawType": "int64",
         "type": "integer"
        },
        {
         "name": "이용가능카드수_신용체크",
         "rawType": "int64",
         "type": "integer"
        },
        {
         "name": "이용가능카드수_신용",
         "rawType": "int64",
         "type": "integer"
        },
        {
         "name": "이용가능카드수_신용_가족",
         "rawType": "int64",
         "type": "integer"
        },
        {
         "name": "이용가능카드수_체크",
         "rawType": "int64",
         "type": "integer"
        },
        {
         "name": "이용가능카드수_체크_가족",
         "rawType": "int64",
         "type": "integer"
        },
        {
         "name": "이용카드수_신용체크",
         "rawType": "int64",
         "type": "integer"
        },
        {
         "name": "이용카드수_신용",
         "rawType": "int64",
         "type": "integer"
        },
        {
         "name": "이용카드수_신용_가족",
         "rawType": "int64",
         "type": "integer"
        },
        {
         "name": "이용카드수_체크",
         "rawType": "int64",
         "type": "integer"
        },
        {
         "name": "이용카드수_체크_가족",
         "rawType": "int64",
         "type": "integer"
        },
        {
         "name": "이용금액_R3M_신용체크",
         "rawType": "int64",
         "type": "integer"
        },
        {
         "name": "이용금액_R3M_신용",
         "rawType": "int64",
         "type": "integer"
        },
        {
         "name": "이용금액_R3M_신용_가족",
         "rawType": "int64",
         "type": "integer"
        },
        {
         "name": "이용금액_R3M_체크",
         "rawType": "int64",
         "type": "integer"
        },
        {
         "name": "이용금액_R3M_체크_가족",
         "rawType": "int64",
         "type": "integer"
        },
        {
         "name": "_1순위카드이용금액",
         "rawType": "int64",
         "type": "integer"
        },
        {
         "name": "_1순위카드이용건수",
         "rawType": "int64",
         "type": "integer"
        },
        {
         "name": "_1순위신용체크구분",
         "rawType": "object",
         "type": "string"
        },
        {
         "name": "_2순위카드이용금액",
         "rawType": "int64",
         "type": "integer"
        },
        {
         "name": "_2순위카드이용건수",
         "rawType": "int64",
         "type": "integer"
        },
        {
         "name": "_2순위신용체크구분",
         "rawType": "object",
         "type": "string"
        },
        {
         "name": "최종유효년월_신용_이용가능",
         "rawType": "float64",
         "type": "float"
        },
        {
         "name": "최종유효년월_신용_이용",
         "rawType": "float64",
         "type": "float"
        },
        {
         "name": "최종카드발급일자",
         "rawType": "float64",
         "type": "float"
        },
        {
         "name": "보유여부_해외겸용_본인",
         "rawType": "int64",
         "type": "integer"
        },
        {
         "name": "이용가능여부_해외겸용_본인",
         "rawType": "int64",
         "type": "integer"
        },
        {
         "name": "이용여부_3M_해외겸용_본인",
         "rawType": "int64",
         "type": "integer"
        },
        {
         "name": "보유여부_해외겸용_신용_본인",
         "rawType": "int64",
         "type": "integer"
        },
        {
         "name": "이용가능여부_해외겸용_신용_본인",
         "rawType": "int64",
         "type": "integer"
        },
        {
         "name": "이용여부_3M_해외겸용_신용_본인",
         "rawType": "int64",
         "type": "integer"
        },
        {
         "name": "연회비발생카드수_B0M",
         "rawType": "object",
         "type": "string"
        },
        {
         "name": "연회비할인카드수_B0M",
         "rawType": "int64",
         "type": "integer"
        },
        {
         "name": "기본연회비_B0M",
         "rawType": "int64",
         "type": "integer"
        },
        {
         "name": "제휴연회비_B0M",
         "rawType": "int64",
         "type": "integer"
        },
        {
         "name": "할인금액_기본연회비_B0M",
         "rawType": "int64",
         "type": "integer"
        },
        {
         "name": "할인금액_제휴연회비_B0M",
         "rawType": "int64",
         "type": "integer"
        },
        {
         "name": "청구금액_기본연회비_B0M",
         "rawType": "int64",
         "type": "integer"
        },
        {
         "name": "청구금액_제휴연회비_B0M",
         "rawType": "int64",
         "type": "integer"
        },
        {
         "name": "상품관련면제카드수_B0M",
         "rawType": "object",
         "type": "string"
        },
        {
         "name": "임직원면제카드수_B0M",
         "rawType": "object",
         "type": "string"
        },
        {
         "name": "우수회원면제카드수_B0M",
         "rawType": "object",
         "type": "string"
        },
        {
         "name": "기타면제카드수_B0M",
         "rawType": "object",
         "type": "string"
        },
        {
         "name": "카드신청건수",
         "rawType": "int64",
         "type": "integer"
        },
        {
         "name": "Life_Stage",
         "rawType": "object",
         "type": "string"
        },
        {
         "name": "최종카드발급경과월",
         "rawType": "int64",
         "type": "integer"
        }
       ],
       "ref": "fac8af91-de9f-43ce-a44e-b71b6115c9f7",
       "rows": [
        [
         "0",
         "201807",
         "TRAIN_000000",
         "2",
         "40대",
         "1",
         "1",
         "0",
         "1",
         "1",
         "1",
         "20130101",
         "67",
         "0",
         "0",
         "1",
         "0",
         "0",
         "0",
         "0",
         "L사",
         "1",
         "61",
         "0",
         "0",
         "서울",
         "서울",
         "1",
         "2",
         "1",
         "0",
         "1",
         "0",
         "2",
         "1",
         "0",
         "1",
         "0",
         "1",
         "1",
         "0",
         "0",
         "0",
         "196",
         "196",
         "0",
         "0",
         "0",
         "3681",
         "26",
         "신용",
         "0",
         "0",
         "체크",
         "202110.0",
         "202112.0",
         "20160912.0",
         "0",
         "0",
         "0",
         "0",
         "0",
         "0",
         "0개",
         "0",
         "0",
         "0",
         "0",
         "0",
         "0",
         "0",
         "0개",
         "0개",
         "0개",
         "0개",
         "0",
         "자녀성장(2)",
         "22"
        ],
        [
         "1",
         "201807",
         "TRAIN_000001",
         "1",
         "30대",
         "1",
         "1",
         "1",
         "1",
         "1",
         "1",
         "20170801",
         "12",
         "0",
         "0",
         "0",
         "0",
         "0",
         "0",
         "0",
         "K사",
         "1",
         "98",
         "0",
         "0",
         "경기",
         "경기",
         "1",
         "1",
         "1",
         "0",
         "0",
         "0",
         "1",
         "1",
         "0",
         "0",
         "0",
         "1",
         "1",
         "0",
         "0",
         "0",
         "13475",
         "13475",
         "0",
         "0",
         "0",
         "13323",
         "46",
         "신용",
         "0",
         "0",
         "기타",
         "202112.0",
         "202204.0",
         "20170122.0",
         "0",
         "0",
         "0",
         "0",
         "0",
         "0",
         "0개",
         "0",
         "0",
         "0",
         "0",
         "0",
         "0",
         "0",
         "0개",
         "0개",
         "0개",
         "0개",
         "0",
         "자녀성장(1)",
         "18"
        ],
        [
         "2",
         "201807",
         "TRAIN_000002",
         "1",
         "30대",
         "1",
         "1",
         "0",
         "1",
         "1",
         "1",
         "20080401",
         "124",
         "0",
         "0",
         "1",
         "0",
         "0",
         "0",
         "0",
         "S사",
         "1",
         "60",
         "0",
         "0",
         "서울",
         "서울",
         "1",
         "2",
         "1",
         "0",
         "1",
         "0",
         "2",
         "1",
         "0",
         "1",
         "0",
         "1",
         "1",
         "0",
         "0",
         "0",
         "23988",
         "23988",
         "0",
         "0",
         "0",
         "24493",
         "28",
         "신용",
         "0",
         "0",
         "체크",
         "202111.0",
         "202201.0",
         "20161113.0",
         "1",
         "1",
         "0",
         "0",
         "0",
         "0",
         "0개",
         "0",
         "0",
         "0",
         "0",
         "0",
         "0",
         "0",
         "0개",
         "0개",
         "0개",
         "0개",
         "0",
         "자녀출산기",
         "20"
        ],
        [
         "3",
         "201807",
         "TRAIN_000003",
         "2",
         "40대",
         "1",
         "1",
         "0",
         "1",
         "2",
         "2",
         "20160501",
         "27",
         "0",
         "0",
         "1",
         "0",
         "0",
         "0",
         "0",
         "L사",
         "1",
         "100",
         "0",
         "0",
         "부산",
         "부산",
         "1",
         "3",
         "2",
         "0",
         "1",
         "0",
         "3",
         "2",
         "0",
         "1",
         "0",
         "1",
         "1",
         "0",
         "0",
         "0",
         "3904",
         "3904",
         "0",
         "0",
         "0",
         "5933",
         "1",
         "신용",
         "0",
         "0",
         "체크",
         "202201.0",
         "202111.0",
         "20170205.0",
         "1",
         "1",
         "1",
         "1",
         "1",
         "1",
         "0개",
         "0",
         "0",
         "0",
         "0",
         "0",
         "0",
         "0",
         "0개",
         "0개",
         "0개",
         "0개",
         "1",
         "자녀성장(2)",
         "17"
        ],
        [
         "4",
         "201807",
         "TRAIN_000004",
         "2",
         "40대",
         "1",
         "1",
         "1",
         "1",
         "1",
         "1",
         "20180601",
         "2",
         "0",
         "0",
         "0",
         "0",
         "0",
         "0",
         "0",
         "K사",
         "1",
         "101",
         "0",
         "0",
         "광주",
         "광주",
         "1",
         "2",
         "1",
         "0",
         "1",
         "0",
         "2",
         "1",
         "0",
         "1",
         "0",
         "1",
         "0",
         "0",
         "1",
         "0",
         "1190",
         "0",
         "0",
         "1190",
         "0",
         "0",
         "-2",
         "신용",
         "0",
         "0",
         "체크",
         "202201.0",
         "202152.86641861883",
         "20170409.0",
         "1",
         "1",
         "1",
         "0",
         "0",
         "0",
         "0개",
         "0",
         "0",
         "0",
         "0",
         "0",
         "0",
         "0",
         "0개",
         "0개",
         "0개",
         "0개",
         "1",
         "자녀성장(1)",
         "15"
        ]
       ],
       "shape": {
        "columns": 77,
        "rows": 5
       }
      },
      "text/html": [
       "<div>\n",
       "<style scoped>\n",
       "    .dataframe tbody tr th:only-of-type {\n",
       "        vertical-align: middle;\n",
       "    }\n",
       "\n",
       "    .dataframe tbody tr th {\n",
       "        vertical-align: top;\n",
       "    }\n",
       "\n",
       "    .dataframe thead th {\n",
       "        text-align: right;\n",
       "    }\n",
       "</style>\n",
       "<table border=\"1\" class=\"dataframe\">\n",
       "  <thead>\n",
       "    <tr style=\"text-align: right;\">\n",
       "      <th></th>\n",
       "      <th>기준년월</th>\n",
       "      <th>ID</th>\n",
       "      <th>남녀구분코드</th>\n",
       "      <th>연령</th>\n",
       "      <th>회원여부_이용가능</th>\n",
       "      <th>회원여부_이용가능_CA</th>\n",
       "      <th>회원여부_이용가능_카드론</th>\n",
       "      <th>소지여부_신용</th>\n",
       "      <th>소지카드수_유효_신용</th>\n",
       "      <th>소지카드수_이용가능_신용</th>\n",
       "      <th>...</th>\n",
       "      <th>할인금액_제휴연회비_B0M</th>\n",
       "      <th>청구금액_기본연회비_B0M</th>\n",
       "      <th>청구금액_제휴연회비_B0M</th>\n",
       "      <th>상품관련면제카드수_B0M</th>\n",
       "      <th>임직원면제카드수_B0M</th>\n",
       "      <th>우수회원면제카드수_B0M</th>\n",
       "      <th>기타면제카드수_B0M</th>\n",
       "      <th>카드신청건수</th>\n",
       "      <th>Life_Stage</th>\n",
       "      <th>최종카드발급경과월</th>\n",
       "    </tr>\n",
       "  </thead>\n",
       "  <tbody>\n",
       "    <tr>\n",
       "      <th>0</th>\n",
       "      <td>201807</td>\n",
       "      <td>TRAIN_000000</td>\n",
       "      <td>2</td>\n",
       "      <td>40대</td>\n",
       "      <td>1</td>\n",
       "      <td>1</td>\n",
       "      <td>0</td>\n",
       "      <td>1</td>\n",
       "      <td>1</td>\n",
       "      <td>1</td>\n",
       "      <td>...</td>\n",
       "      <td>0</td>\n",
       "      <td>0</td>\n",
       "      <td>0</td>\n",
       "      <td>0개</td>\n",
       "      <td>0개</td>\n",
       "      <td>0개</td>\n",
       "      <td>0개</td>\n",
       "      <td>0</td>\n",
       "      <td>자녀성장(2)</td>\n",
       "      <td>22</td>\n",
       "    </tr>\n",
       "    <tr>\n",
       "      <th>1</th>\n",
       "      <td>201807</td>\n",
       "      <td>TRAIN_000001</td>\n",
       "      <td>1</td>\n",
       "      <td>30대</td>\n",
       "      <td>1</td>\n",
       "      <td>1</td>\n",
       "      <td>1</td>\n",
       "      <td>1</td>\n",
       "      <td>1</td>\n",
       "      <td>1</td>\n",
       "      <td>...</td>\n",
       "      <td>0</td>\n",
       "      <td>0</td>\n",
       "      <td>0</td>\n",
       "      <td>0개</td>\n",
       "      <td>0개</td>\n",
       "      <td>0개</td>\n",
       "      <td>0개</td>\n",
       "      <td>0</td>\n",
       "      <td>자녀성장(1)</td>\n",
       "      <td>18</td>\n",
       "    </tr>\n",
       "    <tr>\n",
       "      <th>2</th>\n",
       "      <td>201807</td>\n",
       "      <td>TRAIN_000002</td>\n",
       "      <td>1</td>\n",
       "      <td>30대</td>\n",
       "      <td>1</td>\n",
       "      <td>1</td>\n",
       "      <td>0</td>\n",
       "      <td>1</td>\n",
       "      <td>1</td>\n",
       "      <td>1</td>\n",
       "      <td>...</td>\n",
       "      <td>0</td>\n",
       "      <td>0</td>\n",
       "      <td>0</td>\n",
       "      <td>0개</td>\n",
       "      <td>0개</td>\n",
       "      <td>0개</td>\n",
       "      <td>0개</td>\n",
       "      <td>0</td>\n",
       "      <td>자녀출산기</td>\n",
       "      <td>20</td>\n",
       "    </tr>\n",
       "    <tr>\n",
       "      <th>3</th>\n",
       "      <td>201807</td>\n",
       "      <td>TRAIN_000003</td>\n",
       "      <td>2</td>\n",
       "      <td>40대</td>\n",
       "      <td>1</td>\n",
       "      <td>1</td>\n",
       "      <td>0</td>\n",
       "      <td>1</td>\n",
       "      <td>2</td>\n",
       "      <td>2</td>\n",
       "      <td>...</td>\n",
       "      <td>0</td>\n",
       "      <td>0</td>\n",
       "      <td>0</td>\n",
       "      <td>0개</td>\n",
       "      <td>0개</td>\n",
       "      <td>0개</td>\n",
       "      <td>0개</td>\n",
       "      <td>1</td>\n",
       "      <td>자녀성장(2)</td>\n",
       "      <td>17</td>\n",
       "    </tr>\n",
       "    <tr>\n",
       "      <th>4</th>\n",
       "      <td>201807</td>\n",
       "      <td>TRAIN_000004</td>\n",
       "      <td>2</td>\n",
       "      <td>40대</td>\n",
       "      <td>1</td>\n",
       "      <td>1</td>\n",
       "      <td>1</td>\n",
       "      <td>1</td>\n",
       "      <td>1</td>\n",
       "      <td>1</td>\n",
       "      <td>...</td>\n",
       "      <td>0</td>\n",
       "      <td>0</td>\n",
       "      <td>0</td>\n",
       "      <td>0개</td>\n",
       "      <td>0개</td>\n",
       "      <td>0개</td>\n",
       "      <td>0개</td>\n",
       "      <td>1</td>\n",
       "      <td>자녀성장(1)</td>\n",
       "      <td>15</td>\n",
       "    </tr>\n",
       "  </tbody>\n",
       "</table>\n",
       "<p>5 rows × 77 columns</p>\n",
       "</div>"
      ],
      "text/plain": [
       "     기준년월            ID  남녀구분코드   연령  회원여부_이용가능  회원여부_이용가능_CA  회원여부_이용가능_카드론  \\\n",
       "0  201807  TRAIN_000000       2  40대          1             1              0   \n",
       "1  201807  TRAIN_000001       1  30대          1             1              1   \n",
       "2  201807  TRAIN_000002       1  30대          1             1              0   \n",
       "3  201807  TRAIN_000003       2  40대          1             1              0   \n",
       "4  201807  TRAIN_000004       2  40대          1             1              1   \n",
       "\n",
       "   소지여부_신용  소지카드수_유효_신용  소지카드수_이용가능_신용  ...  할인금액_제휴연회비_B0M  청구금액_기본연회비_B0M  \\\n",
       "0        1            1              1  ...               0               0   \n",
       "1        1            1              1  ...               0               0   \n",
       "2        1            1              1  ...               0               0   \n",
       "3        1            2              2  ...               0               0   \n",
       "4        1            1              1  ...               0               0   \n",
       "\n",
       "   청구금액_제휴연회비_B0M  상품관련면제카드수_B0M  임직원면제카드수_B0M  우수회원면제카드수_B0M  기타면제카드수_B0M  \\\n",
       "0               0             0개            0개             0개           0개   \n",
       "1               0             0개            0개             0개           0개   \n",
       "2               0             0개            0개             0개           0개   \n",
       "3               0             0개            0개             0개           0개   \n",
       "4               0             0개            0개             0개           0개   \n",
       "\n",
       "   카드신청건수  Life_Stage 최종카드발급경과월  \n",
       "0       0     자녀성장(2)        22  \n",
       "1       0     자녀성장(1)        18  \n",
       "2       0       자녀출산기        20  \n",
       "3       1     자녀성장(2)        17  \n",
       "4       1     자녀성장(1)        15  \n",
       "\n",
       "[5 rows x 77 columns]"
      ]
     },
     "execution_count": 38,
     "metadata": {},
     "output_type": "execute_result"
    }
   ],
   "source": [
    "df1.shape"
   ]
  }
 ],
 "metadata": {
  "kernelspec": {
   "display_name": "Python (conda-base)",
   "language": "python",
   "name": "base"
  },
  "language_info": {
   "codemirror_mode": {
    "name": "ipython",
    "version": 3
   },
   "file_extension": ".py",
   "mimetype": "text/x-python",
   "name": "python",
   "nbconvert_exporter": "python",
   "pygments_lexer": "ipython3",
   "version": "3.11.4"
  }
 },
 "nbformat": 4,
 "nbformat_minor": 5
}
