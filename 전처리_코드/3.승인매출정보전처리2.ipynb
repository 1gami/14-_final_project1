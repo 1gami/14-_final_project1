{
 "cells": [
  {
   "cell_type": "code",
   "execution_count": 2,
   "id": "8c7b908e",
   "metadata": {},
   "outputs": [],
   "source": [
    "import os\n",
    "import pandas as pd\n",
    "import numpy as np"
   ]
  },
  {
   "cell_type": "code",
   "execution_count": null,
   "id": "bebf503a",
   "metadata": {},
   "outputs": [],
   "source": []
  },
  {
   "cell_type": "code",
   "execution_count": 3,
   "id": "ae10dbae",
   "metadata": {},
   "outputs": [],
   "source": [
    "#기존 전처리파일 고유값1개인거 제거, 상관계수 1, 결측치 범주형 기타로대체, 데이터타입 변환 등등\n",
    "\n",
    "\n",
    "df_trian = pd.read_parquet(r\"C:\\Users\\rtc32\\OneDrive\\바탕 화면\\final_project\\project\\3.승인매출정보_전처리완.parquet\")\n",
    "df_test = pd.read_parquet(r\"C:\\Users\\rtc32\\OneDrive\\바탕 화면\\final_project\\project\\3.승인매출정보_전처리완_test.parquet\")"
   ]
  },
  {
   "cell_type": "code",
   "execution_count": 73,
   "id": "d4bee2e1",
   "metadata": {},
   "outputs": [
    {
     "data": {
      "text/plain": [
       "(600000, 25)"
      ]
     },
     "execution_count": 73,
     "metadata": {},
     "output_type": "execute_result"
    }
   ],
   "source": [
    "df_test.shape"
   ]
  },
  {
   "cell_type": "code",
   "execution_count": 4,
   "id": "bee6972b",
   "metadata": {},
   "outputs": [],
   "source": [
    "#Segment 추가를 위해 회원정보 컬럼과 결합을 위해 불러오기\n",
    "\n",
    "df_train_member = pd.read_parquet(r\"C:\\Users\\rtc32\\OneDrive\\바탕 화면\\final_project\\project\\1.회원정보_전처리완.parquet\")"
   ]
  },
  {
   "cell_type": "code",
   "execution_count": 5,
   "id": "f4bede4e",
   "metadata": {},
   "outputs": [
    {
     "data": {
      "text/plain": [
       "Index(['기준년월', 'ID', '남녀구분코드', '연령', 'Segment', '회원여부_이용가능', '회원여부_이용가능_CA',\n",
       "       '회원여부_이용가능_카드론', '소지여부_신용', '소지카드수_유효_신용', '소지카드수_이용가능_신용',\n",
       "       '입회경과개월수_신용', '회원여부_연체', '이용거절여부_카드론', '동의여부_한도증액안내', '수신거부여부_TM',\n",
       "       '수신거부여부_DM', '수신거부여부_메일', '수신거부여부_SMS', '가입통신회사코드', '탈회횟수_누적',\n",
       "       '최종탈회후경과월', '탈회횟수_발급6개월이내', '탈회횟수_발급1년이내', '거주시도명', '직장시도명', '마케팅동의여부',\n",
       "       '유효카드수_신용체크', '유효카드수_신용', '유효카드수_신용_가족', '유효카드수_체크', '유효카드수_체크_가족',\n",
       "       '이용가능카드수_신용체크', '이용가능카드수_신용', '이용가능카드수_신용_가족', '이용가능카드수_체크',\n",
       "       '이용가능카드수_체크_가족', '이용카드수_신용체크', '이용카드수_신용', '이용카드수_신용_가족', '이용카드수_체크',\n",
       "       '이용금액_R3M_신용체크', '이용금액_R3M_신용', '이용금액_R3M_신용_가족', '이용금액_R3M_체크',\n",
       "       '_1순위카드이용금액', '_1순위카드이용건수', '_1순위신용체크구분', '_2순위카드이용금액', '_2순위카드이용건수',\n",
       "       '_2순위신용체크구분', '최종유효년월_신용_이용가능', '최종유효년월_신용_이용', '보유여부_해외겸용_본인',\n",
       "       '이용가능여부_해외겸용_본인', '이용여부_3M_해외겸용_본인', '보유여부_해외겸용_신용_본인',\n",
       "       '이용가능여부_해외겸용_신용_본인', '이용여부_3M_해외겸용_신용_본인', '연회비발생카드수_B0M', '기본연회비_B0M',\n",
       "       '제휴연회비_B0M', '청구금액_기본연회비_B0M', '청구금액_제휴연회비_B0M', '카드신청건수', 'Life_Stage',\n",
       "       '최종카드발급경과월'],\n",
       "      dtype='object')"
      ]
     },
     "execution_count": 5,
     "metadata": {},
     "output_type": "execute_result"
    }
   ],
   "source": [
    "df_train_member.columns"
   ]
  },
  {
   "cell_type": "code",
   "execution_count": 6,
   "id": "63ce6d58",
   "metadata": {},
   "outputs": [],
   "source": [
    "df_train_member = df_train_member[['ID', '기준년월', 'Segment']]\n"
   ]
  },
  {
   "cell_type": "code",
   "execution_count": 7,
   "id": "8e4f0312",
   "metadata": {},
   "outputs": [],
   "source": [
    "df_merged = pd.merge(df_trian, df_train_member, on=['ID', '기준년월'], how='left')"
   ]
  },
  {
   "cell_type": "code",
   "execution_count": 8,
   "id": "13b21a4b",
   "metadata": {},
   "outputs": [
    {
     "data": {
      "text/plain": [
       "(2400000, 374)"
      ]
     },
     "execution_count": 8,
     "metadata": {},
     "output_type": "execute_result"
    }
   ],
   "source": [
    "df_trian.shape"
   ]
  },
  {
   "cell_type": "code",
   "execution_count": 9,
   "id": "98754625",
   "metadata": {},
   "outputs": [
    {
     "data": {
      "text/plain": [
       "(2400000, 375)"
      ]
     },
     "execution_count": 9,
     "metadata": {},
     "output_type": "execute_result"
    }
   ],
   "source": [
    "df_merged.shape"
   ]
  },
  {
   "cell_type": "code",
   "execution_count": 11,
   "id": "678573b2",
   "metadata": {},
   "outputs": [
    {
     "data": {
      "text/plain": [
       "array(['D', 'E', 'C', 'A', 'B'], dtype=object)"
      ]
     },
     "execution_count": 11,
     "metadata": {},
     "output_type": "execute_result"
    }
   ],
   "source": [
    "df_merged['Segment'].unique()"
   ]
  },
  {
   "cell_type": "code",
   "execution_count": null,
   "id": "103f9230",
   "metadata": {},
   "outputs": [],
   "source": []
  },
  {
   "cell_type": "code",
   "execution_count": 12,
   "id": "9a40824d",
   "metadata": {},
   "outputs": [
    {
     "name": "stderr",
     "output_type": "stream",
     "text": [
      "C:\\Users\\rtc32\\AppData\\Local\\Temp\\ipykernel_2544\\1498371094.py:33: FutureWarning: Series.view is deprecated and will be removed in a future version. Use ``astype`` as an alternative to change the dtype.\n",
      "  temp_col = df_merged[col].view('int64')\n",
      "C:\\Users\\rtc32\\AppData\\Local\\Temp\\ipykernel_2544\\1498371094.py:33: FutureWarning: Series.view is deprecated and will be removed in a future version. Use ``astype`` as an alternative to change the dtype.\n",
      "  temp_col = df_merged[col].view('int64')\n",
      "C:\\Users\\rtc32\\AppData\\Local\\Temp\\ipykernel_2544\\1498371094.py:33: FutureWarning: Series.view is deprecated and will be removed in a future version. Use ``astype`` as an alternative to change the dtype.\n",
      "  temp_col = df_merged[col].view('int64')\n",
      "C:\\Users\\rtc32\\AppData\\Local\\Temp\\ipykernel_2544\\1498371094.py:33: FutureWarning: Series.view is deprecated and will be removed in a future version. Use ``astype`` as an alternative to change the dtype.\n",
      "  temp_col = df_merged[col].view('int64')\n",
      "C:\\Users\\rtc32\\AppData\\Local\\Temp\\ipykernel_2544\\1498371094.py:33: FutureWarning: Series.view is deprecated and will be removed in a future version. Use ``astype`` as an alternative to change the dtype.\n",
      "  temp_col = df_merged[col].view('int64')\n",
      "C:\\Users\\rtc32\\AppData\\Local\\Temp\\ipykernel_2544\\1498371094.py:33: FutureWarning: Series.view is deprecated and will be removed in a future version. Use ``astype`` as an alternative to change the dtype.\n",
      "  temp_col = df_merged[col].view('int64')\n",
      "C:\\Users\\rtc32\\AppData\\Local\\Temp\\ipykernel_2544\\1498371094.py:33: FutureWarning: Series.view is deprecated and will be removed in a future version. Use ``astype`` as an alternative to change the dtype.\n",
      "  temp_col = df_merged[col].view('int64')\n",
      "C:\\Users\\rtc32\\AppData\\Local\\Temp\\ipykernel_2544\\1498371094.py:33: FutureWarning: Series.view is deprecated and will be removed in a future version. Use ``astype`` as an alternative to change the dtype.\n",
      "  temp_col = df_merged[col].view('int64')\n"
     ]
    },
    {
     "name": "stdout",
     "output_type": "stream",
     "text": [
      "기준년월               0.000000\n",
      "ID                 1.000000\n",
      "최종이용일자_기본         -0.089809\n",
      "최종이용일자_신판         -0.084928\n",
      "최종이용일자_CA          0.194113\n",
      "                     ...   \n",
      "승인거절건수_한도초과_R3M   -0.043431\n",
      "승인거절건수_BL_R3M     -0.050384\n",
      "승인거절건수_입력오류_R3M   -0.004663\n",
      "승인거절건수_기타_R3M     -0.061179\n",
      "이용금액대              0.481086\n",
      "Length: 374, dtype: float64\n"
     ]
    }
   ],
   "source": [
    "from sklearn.preprocessing import LabelEncoder\n",
    "from scipy.stats import spearmanr, chi2_contingency\n",
    "\n",
    "def cramers_v(x, y):\n",
    "    confusion_matrix = pd.crosstab(x, y)\n",
    "    chi2 = chi2_contingency(confusion_matrix)[0]\n",
    "    n = confusion_matrix.sum().sum()\n",
    "    phi2 = chi2 / n\n",
    "    r, k = confusion_matrix.shape\n",
    "    return np.sqrt(phi2 / min(k-1, r-1))\n",
    "\n",
    "segment_col = 'Segment'\n",
    "amount_col = '이용금액대'  # 순서형 변수\n",
    "\n",
    "# Segment와 이용금액대 모두 순서형으로 라벨 인코딩\n",
    "le_segment = LabelEncoder()\n",
    "df_merged[segment_col] = le_segment.fit_transform(df_merged[segment_col])\n",
    "\n",
    "le_amount = LabelEncoder()\n",
    "df_merged[amount_col] = le_amount.fit_transform(df_merged[amount_col])\n",
    "\n",
    "results = {}\n",
    "\n",
    "for col in df_merged.columns:\n",
    "    if col == segment_col:\n",
    "        continue\n",
    "    # 이용금액대(순서형)와 Segment(순서형) 조합이면 spearman\n",
    "    if col == amount_col:\n",
    "        coef, _ = spearmanr(df_merged[col], df_merged[segment_col], nan_policy='omit')\n",
    "        results[col] = coef\n",
    "    # datetime64 타입이면 int로 변환 후 spearman\n",
    "    elif np.issubdtype(df_merged[col].dtype, np.datetime64):\n",
    "        temp_col = df_merged[col].view('int64')\n",
    "        coef, _ = spearmanr(temp_col, df_merged[segment_col], nan_policy='omit')\n",
    "        results[col] = coef\n",
    "    # 수치형이면 spearman\n",
    "    elif pd.api.types.is_numeric_dtype(df_merged[col]):\n",
    "        coef, _ = spearmanr(df_merged[col], df_merged[segment_col], nan_policy='omit')\n",
    "        results[col] = coef\n",
    "    # 범주형이면 cramer's v\n",
    "    else:\n",
    "        results[col] = cramers_v(df_merged[col], df_merged[segment_col])\n",
    "\n",
    "results_series = pd.Series(results)\n",
    "print(results_series)\n",
    "\n",
    "\n"
   ]
  },
  {
   "cell_type": "code",
   "execution_count": 15,
   "id": "8863824d",
   "metadata": {},
   "outputs": [
    {
     "name": "stdout",
     "output_type": "stream",
     "text": [
      "ID                       1.0000\n",
      "정상청구원금_B5M              -0.5317\n",
      "정상청구원금_B2M              -0.4920\n",
      "정상청구원금_B0M              -0.4908\n",
      "이용금액_일시불_R12M           -0.4900\n",
      "이용금액대                    0.4811\n",
      "최대이용금액_일시불_R12M         -0.4625\n",
      "이용금액_오프라인_B0M           -0.4602\n",
      "이용건수_신용_R12M            -0.4515\n",
      "이용금액_일시불_B0M            -0.4513\n",
      "이용금액_오프라인_R3M           -0.4509\n",
      "이용금액_오프라인_R6M           -0.4499\n",
      "이용금액_일시불_R6M            -0.4469\n",
      "이용건수_신판_R12M            -0.4454\n",
      "이용금액_일시불_R3M            -0.4440\n",
      "이용건수_일시불_R12M           -0.4395\n",
      "_2순위업종_이용금액             -0.4242\n",
      "_3순위업종_이용금액             -0.4241\n",
      "정상입금원금_B5M              -0.4139\n",
      "_1순위업종_이용금액             -0.4121\n",
      "_2순위쇼핑업종_이용금액           -0.4091\n",
      "정상입금원금_B0M              -0.4073\n",
      "_1순위쇼핑업종_이용금액           -0.4013\n",
      "정상입금원금_B2M              -0.4001\n",
      "이용건수_신용_R6M             -0.3993\n",
      "이용건수_오프라인_R6M           -0.3977\n",
      "이용건수_오프라인_B0M           -0.3945\n",
      "이용건수_신용_R3M             -0.3931\n",
      "이용건수_신용_B0M             -0.3930\n",
      "_3순위쇼핑업종_이용금액           -0.3926\n",
      "이용건수_오프라인_R3M           -0.3926\n",
      "이용가맹점수                  -0.3925\n",
      "이용건수_신판_R6M             -0.3924\n",
      "이용건수_일시불_R6M            -0.3874\n",
      "이용건수_신판_R3M             -0.3863\n",
      "이용건수_신판_B0M             -0.3860\n",
      "이용건수_일시불_B0M            -0.3823\n",
      "이용건수_일시불_R3M            -0.3822\n",
      "쇼핑_도소매_이용금액             -0.3759\n",
      "연속유실적개월수_기본_24M_카드      -0.3747\n",
      "_1순위교통업종_이용금액           -0.3637\n",
      "이용금액_온라인_R6M            -0.3578\n",
      "쇼핑_온라인_이용금액             -0.3553\n",
      "_2순위교통업종_이용금액           -0.3503\n",
      "이용금액_온라인_R3M            -0.3495\n",
      "이용금액_온라인_B0M            -0.3485\n",
      "이용건수_온라인_R6M            -0.3456\n",
      "쇼핑_슈퍼마켓_이용금액            -0.3424\n",
      "이용금액_페이_온라인_R6M         -0.3406\n",
      "이용금액_간편결제_R6M           -0.3405\n",
      "쇼핑_편의점_이용금액             -0.3400\n",
      "이용금액_간편결제_B0M           -0.3396\n",
      "이용금액_간편결제_R3M           -0.3389\n",
      "이용금액_페이_온라인_R3M         -0.3388\n",
      "교통_주유이용금액               -0.3386\n",
      "이용금액_페이_온라인_B0M         -0.3386\n",
      "이용건수_온라인_B0M            -0.3379\n",
      "이용건수_온라인_R3M            -0.3375\n",
      "이용건수_간편결제_R6M           -0.3316\n",
      "이용건수_페이_온라인_R6M         -0.3311\n",
      "이용개월수_온라인_R6M           -0.3308\n",
      "쇼핑_마트_이용금액              -0.3304\n",
      "이용개월수_신용_R12M           -0.3291\n",
      "이용건수_간편결제_R3M           -0.3277\n",
      "이용건수_페이_온라인_R3M         -0.3257\n",
      "이용개월수_페이_온라인_R6M        -0.3256\n",
      "이용개월수_신판_R12M           -0.3251\n",
      "이용건수_간편결제_B0M           -0.3241\n",
      "이용개월수_일시불_R12M          -0.3239\n",
      "이용개월수_간편결제_R6M          -0.3239\n",
      "이용건수_페이_온라인_B0M         -0.3205\n",
      "교통_정비이용금액               -0.3116\n",
      "_3순위교통업종_이용금액           -0.3026\n",
      "이용금액_할부_R12M            -0.3003\n",
      "최대이용금액_할부_무이자_R12M      -0.2998\n",
      "이용금액_할부_무이자_R12M        -0.2997\n",
      "최대이용금액_할부_R12M          -0.2992\n",
      "할부금액_3M_R12M            -0.2870\n",
      "이용개월수_할부_무이자_R12M       -0.2864\n",
      "이용개월수_할부_R12M           -0.2855\n",
      "이용건수_할부_R12M            -0.2831\n",
      "할부금액_무이자_3M_R12M        -0.2816\n",
      "연체입금원금_B0M              -0.2796\n",
      "이용건수_할부_무이자_R12M        -0.2791\n",
      "쇼핑_기타_이용금액              -0.2754\n",
      "연체입금원금_B5M              -0.2745\n",
      "_1순위여유업종_이용금액           -0.2710\n",
      "연체입금원금_B2M              -0.2708\n",
      "할부건수_3M_R12M            -0.2703\n",
      "이용후경과월_할부_무이자            0.2686\n",
      "이용후경과월_할부                0.2662\n",
      "할부건수_무이자_3M_R12M        -0.2661\n",
      "할부금액_6M_R12M            -0.2611\n",
      "이용개월수_전체_R6M            -0.2605\n",
      "이용금액_해외                 -0.2555\n",
      "_2순위납부업종_이용금액           -0.2511\n",
      "이용개월수_할부_R6M            -0.2477\n",
      "쇼핑_백화점_이용금액             -0.2467\n",
      "이용건수_할부_R6M             -0.2450\n",
      "이용개월수_할부_무이자_R6M        -0.2445\n",
      "할부금액_무이자_6M_R12M        -0.2440\n",
      "이용개월수_오프라인_R6M          -0.2429\n",
      "교통_택시이용금액               -0.2427\n",
      "_1순위납부업종_이용금액           -0.2415\n",
      "이용건수_할부_무이자_R6M         -0.2413\n",
      "이용개월수_신용_R6M            -0.2412\n",
      "이용금액_할부_무이자_R6M         -0.2393\n",
      "최대이용금액_CA_R12M          -0.2376\n",
      "이용금액_CA_R12M            -0.2365\n",
      "이용건수_CA_R12M            -0.2363\n",
      "이용개월수_CA_R12M           -0.2350\n",
      "이용개월수_할부_R3M            -0.2337\n",
      "할부건수_6M_R12M            -0.2333\n",
      "이용개월수_신판_R6M            -0.2332\n",
      "이용개월수_전체_R3M            -0.2331\n",
      "이용개월수_일시불_R6M           -0.2321\n",
      "이용건수_할부_R3M             -0.2321\n",
      "이용후경과월_신용                0.2309\n",
      "이용개월수_할부_무이자_R3M        -0.2299\n",
      "이용건수_할부_B0M             -0.2281\n",
      "이용건수_할부_무이자_R3M         -0.2274\n",
      "이용후경과월_CA                0.2272\n",
      "이용금액_할부_R6M             -0.2267\n",
      "이용후경과월_일시불               0.2250\n",
      "이용건수_할부_무이자_B0M         -0.2226\n",
      "할부건수_무이자_6M_R12M        -0.2222\n",
      "이용개월수_신용_R3M            -0.2182\n",
      "여유_운동이용금액               -0.2163\n",
      "이용금액_할부_B0M             -0.2160\n",
      "이용금액_CA_B0M             -0.2145\n",
      "이용금액_할부_무이자_R3M         -0.2141\n",
      "이용금액_CA_R6M             -0.2125\n",
      "이용건수_CA_R6M             -0.2118\n",
      "이용개월수_신판_R3M            -0.2117\n",
      "이용건수_CA_B0M             -0.2113\n",
      "이용개월수_일시불_R3M           -0.2107\n",
      "이용개월수_CA_R6M            -0.2103\n",
      "이용금액_CA_R3M             -0.2092\n",
      "이용금액_할부_무이자_B0M         -0.2087\n",
      "이용후경과월_신판                0.2075\n",
      "이용건수_CA_R3M             -0.2071\n",
      "납부_기타이용금액               -0.2035\n",
      "이용개월수_CA_R3M            -0.2032\n",
      "이용금액_체크_R12M            -0.2008\n",
      "RP건수_B0M                -0.1970\n",
      "이용금액_할부_유이자_R12M        -0.1961\n",
      "RP금액_B0M                -0.1955\n",
      "연속무실적개월수_기본_24M_카드       0.1952\n",
      "최종이용일자_CA                0.1941\n",
      "_2순위여유업종_이용금액           -0.1921\n",
      "RP후경과월_교통                0.1895\n",
      "납부_통신비이용금액              -0.1890\n",
      "이용개월수_결제일_R6M           -0.1871\n",
      "이용개월수_할부_유이자_R12M       -0.1868\n",
      "최대이용금액_할부_유이자_R12M      -0.1863\n",
      "이용금액_할부_R3M             -0.1851\n",
      "할부금액_유이자_3M_R12M        -0.1842\n",
      "이용후경과월_할부_유이자            0.1813\n",
      "RP유형건수_B0M              -0.1808\n",
      "이용건수_할부_유이자_R12M        -0.1805\n",
      "_3순위납부업종_이용금액           -0.1789\n",
      "납부_보험료이용금액              -0.1772\n",
      "교통_버스지하철이용금액            -0.1753\n",
      "RP건수_통신_B0M             -0.1748\n",
      "RP건수_교통_B0M             -0.1748\n",
      "이용금액_체크_B0M             -0.1737\n",
      "이용건수_체크_B0M             -0.1729\n",
      "_3순위쇼핑업종                 0.1712\n",
      "교통_철도버스이용금액             -0.1711\n",
      "이용금액_체크_R3M             -0.1710\n",
      "최대이용금액_체크_R12M          -0.1706\n",
      "_3순위업종                   0.1698\n",
      "이용건수_체크_R12M            -0.1694\n",
      "이용건수_체크_R3M             -0.1692\n",
      "이용금액_체크_R6M             -0.1689\n",
      "할부건수_유이자_3M_R12M        -0.1688\n",
      "이용개월수_결제일_R3M           -0.1663\n",
      "_2순위교통업종                 0.1657\n",
      "이용개월수_체크_R12M           -0.1654\n",
      "RP후경과월_통신                0.1654\n",
      "이용건수_체크_R6M             -0.1653\n",
      "_2순위업종                   0.1648\n",
      "쇼핑_아울렛_이용금액             -0.1628\n",
      "이용개월수_체크_R3M            -0.1615\n",
      "할부금액_유이자_6M_R12M        -0.1613\n",
      "이용개월수_체크_R6M            -0.1608\n",
      "_1순위교통업종                 0.1605\n",
      "여유_공연이용금액               -0.1602\n",
      "_2순위쇼핑업종                 0.1591\n",
      "_1순위쇼핑업종                 0.1588\n",
      "이용금액_선결제_R6M            -0.1581\n",
      "이용횟수_선결제_R6M            -0.1569\n",
      "RP후경과월                   0.1568\n",
      "이용후경과월_체크                0.1566\n",
      "이용개월수_선결제_R6M           -0.1520\n",
      "이용금액_페이_오프라인_R6M        -0.1505\n",
      "_3순위교통업종                 0.1502\n",
      "이용건수_할부_유이자_R6M         -0.1495\n",
      "이용개월수_페이_오프라인_R6M       -0.1484\n",
      "_1순위업종                   0.1476\n",
      "이용금액_페이_오프라인_R3M        -0.1474\n",
      "이용금액_페이_오프라인_B0M        -0.1453\n",
      "이용개월수_할부_유이자_R6M        -0.1449\n",
      "선입금원금_B5M               -0.1436\n",
      "카드론이용월수_누적              -0.1435\n",
      "이용건수_페이_오프라인_R6M        -0.1435\n",
      "최종카드론_대출이율              -0.1435\n",
      "카드론이용건수_누적              -0.1429\n",
      "_1순위여유업종                 0.1428\n",
      "이용금액_A페이_B0M            -0.1427\n",
      "이용금액_A페이_R3M            -0.1425\n",
      "이용건수_페이_오프라인_B0M        -0.1425\n",
      "이용건수_선결제_R6M            -0.1422\n",
      "이용건수_페이_오프라인_R3M        -0.1419\n",
      "이용금액_A페이_R6M            -0.1417\n",
      "이용건수_A페이_R6M            -0.1411\n",
      "이용건수_A페이_R3M            -0.1405\n",
      "이용개월수_A페이_R6M           -0.1401\n",
      "신청건수_ATM_CA_R6M         -0.1396\n",
      "이용건수_A페이_B0M            -0.1390\n",
      "선입금원금_B0M               -0.1384\n",
      "이용금액_할부_유이자_R6M         -0.1383\n",
      "이용금액_C페이_R6M            -0.1374\n",
      "카드론이용금액_누적              -0.1367\n",
      "선입금원금_B2M               -0.1366\n",
      "여유_숙박이용금액               -0.1365\n",
      "이용금액_선결제_R3M            -0.1354\n",
      "이용횟수_선결제_R3M            -0.1349\n",
      "이용금액_C페이_R3M            -0.1347\n",
      "이용건수_C페이_R3M            -0.1347\n",
      "이용개월수_C페이_R6M           -0.1342\n",
      "이용건수_C페이_R6M            -0.1330\n",
      "할부금액_12M_R12M           -0.1328\n",
      "이용건수_C페이_B0M            -0.1314\n",
      "이용금액_C페이_B0M            -0.1306\n",
      "신청건수_ATM_CA_B0          -0.1300\n",
      "이용건수_할부_유이자_R3M         -0.1288\n",
      "이용개월수_할부_유이자_R3M        -0.1275\n",
      "최종카드론이용경과월               0.1275\n",
      "최종카드론_대출월수              -0.1271\n",
      "최종카드론_대출금액              -0.1264\n",
      "최초카드론이용경과월               0.1257\n",
      "_2순위납부업종                 0.1249\n",
      "최종이용일자_체크                0.1233\n",
      "이용금액_선결제_B0M            -0.1232\n",
      "최종이용일자_카드론               0.1229\n",
      "할부건수_유이자_6M_R12M        -0.1225\n",
      "이용횟수_선결제_B0M            -0.1221\n",
      "여유_기타이용금액               -0.1204\n",
      "_3순위여유업종_이용금액           -0.1190\n",
      "이용금액_할부_유이자_R3M         -0.1185\n",
      "이용건수_할부_유이자_B0M         -0.1142\n",
      "_2순위여유업종                 0.1135\n",
      "_1순위납부업종                 0.1097\n",
      "이용개월수_D페이_R6M           -0.1088\n",
      "이용금액_D페이_R6M            -0.1081\n",
      "할부금액_무이자_12M_R12M       -0.1054\n",
      "이용건수_선결제_R3M            -0.1044\n",
      "이용금액_할부_유이자_B0M         -0.1042\n",
      "이용금액_B페이_R6M            -0.1002\n",
      "이용건수_D페이_R6M            -0.0996\n",
      "이용금액_B페이_R3M            -0.0987\n",
      "이용개월수_B페이_R6M           -0.0983\n",
      "이용건수_B페이_R6M            -0.0977\n",
      "이용건수_B페이_R3M            -0.0970\n",
      "_3순위납부업종                 0.0911\n",
      "이용건수_B페이_B0M            -0.0910\n",
      "이용금액_B페이_B0M            -0.0906\n",
      "최종이용일자_기본               -0.0898\n",
      "여유_Pet이용금액              -0.0877\n",
      "최종이용일자_신판               -0.0849\n",
      "RP건수_아파트_B0M            -0.0844\n",
      "RP후경과월_아파트               0.0841\n",
      "납부_관리비이용금액              -0.0831\n",
      "이용금액_D페이_R3M            -0.0788\n",
      "최종이용일자_일시불              -0.0787\n",
      "이용건수_선결제_B0M            -0.0779\n",
      "최종카드론_신청경로코드             0.0778\n",
      "금액_할부전환_R6M             -0.0777\n",
      "건수_할부전환_R6M             -0.0776\n",
      "승인거절건수_R3M              -0.0771\n",
      "금액_할부전환_R3M             -0.0757\n",
      "건수_할부전환_R3M             -0.0756\n",
      "_3순위여유업종                 0.0746\n",
      "납부_가스전기료이용금액            -0.0721\n",
      "이용개월수_당사기타_R6M          -0.0717\n",
      "여유_항공이용금액               -0.0716\n",
      "할부금액_유이자_12M_R12M       -0.0714\n",
      "이용건수_D페이_R3M            -0.0711\n",
      "할부건수_12M_R12M           -0.0692\n",
      "이용금액_부분무이자_R6M          -0.0681\n",
      "최대이용금액_부분무이자_R12M       -0.0670\n",
      "이용개월수_부분무이자_R12M        -0.0665\n",
      "여유_공원이용금액               -0.0665\n",
      "할부금액_부분_12M_R12M        -0.0658\n",
      "이용금액_부분무이자_R12M         -0.0658\n",
      "이용금액_부분무이자_R3M          -0.0655\n",
      "이용후경과월_부분무이자             0.0628\n",
      "승인거절건수_기타_R3M           -0.0612\n",
      "이용건수_카드론_R12M           -0.0598\n",
      "이용금액_연체_R6M             -0.0595\n",
      "이용개월수_카드론_R12M          -0.0577\n",
      "이용후경과월_카드론               0.0576\n",
      "이용횟수_연체_R6M             -0.0553\n",
      "이용금액_카드론_R12M           -0.0529\n",
      "최종이용일자_할부                0.0515\n",
      "할부건수_무이자_12M_R12M       -0.0515\n",
      "승인거절건수_BL_R3M           -0.0504\n",
      "최대이용금액_카드론_R12M         -0.0500\n",
      "할부건수_유이자_12M_R12M       -0.0466\n",
      "이용금액_D페이_B0M            -0.0452\n",
      "이용금액_연체_R3M             -0.0446\n",
      "승인거절건수_한도초과_R3M         -0.0434\n",
      "이용건수_D페이_B0M            -0.0433\n",
      "이용횟수_연체_R3M             -0.0416\n",
      "RP후경과월_가스                0.0408\n",
      "이용금액_연체_B0M             -0.0358\n",
      "RP후경과월_전기                0.0350\n",
      "이용개월수_카드론_R6M           -0.0322\n",
      "RP건수_가스_B0M             -0.0314\n",
      "이용횟수_연체_B0M             -0.0312\n",
      "RP후경과월_보험                0.0297\n",
      "이용금액_카드론_R6M            -0.0290\n",
      "이용건수_카드론_R6M            -0.0283\n",
      "최종카드론_금융상환방식코드          -0.0280\n",
      "가맹점매출금액_B1M             -0.0272\n",
      "가맹점매출금액_B2M             -0.0267\n",
      "이용개월수_부분무이자_R6M         -0.0264\n",
      "RP건수_전기_B0M             -0.0252\n",
      "이용건수_부분무이자_R6M          -0.0236\n",
      "최종카드론_거치개월수             -0.0236\n",
      "증감_RP유형건수_전월            -0.0233\n",
      "RP건수_보험_B0M             -0.0229\n",
      "할부금액_14M_R12M            0.0201\n",
      "RP후경과월_제휴사서비스직접판매       -0.0160\n",
      "할부금액_유이자_14M_R12M        0.0160\n",
      "할부금액_무이자_14M_R12M        0.0154\n",
      "증감_RP건수_교통_전월           -0.0149\n",
      "RP건수_제휴사서비스직접판매_B0M      0.0142\n",
      "증감_RP건수_전월              -0.0124\n",
      "이용개월수_카드론_R3M           -0.0115\n",
      "이용금액_카드론_R3M            -0.0112\n",
      "최종카드론_대출일자              -0.0109\n",
      "이용건수_카드론_R3M            -0.0107\n",
      "이용개월수_부분무이자_R3M         -0.0085\n",
      "할부건수_부분_12M_R12M        -0.0084\n",
      "이용건수_부분무이자_R3M          -0.0077\n",
      "승인거절건수_BL_B0M           -0.0063\n",
      "교통_통행료이용금액              -0.0056\n",
      "증감_RP건수_아파트_전월           0.0049\n",
      "승인거절건수_입력오류_R3M         -0.0047\n",
      "증감_RP건수_전기_전월           -0.0044\n",
      "증감_RP건수_제휴사서비스직접판매_전월    0.0042\n",
      "RP건수_렌탈_B0M              0.0042\n",
      "승인거절건수_B0M              -0.0041\n",
      "증감_RP건수_통신_전월           -0.0040\n",
      "승인거절건수_한도초과_B0M         -0.0035\n",
      "할부건수_유이자_14M_R12M       -0.0032\n",
      "할부건수_14M_R12M           -0.0030\n",
      "RP건수_학습비_B0M             0.0029\n",
      "RP후경과월_렌탈                0.0029\n",
      "신청건수_ATM_CL_R6M         -0.0025\n",
      "RP후경과월_학습비              -0.0025\n",
      "증감_RP건수_보험_전월           -0.0018\n",
      "이용금액_카드론_B0M             0.0016\n",
      "증감_RP건수_학습비_전월           0.0016\n",
      "신청건수_ATM_CL_B0          -0.0015\n",
      "이용건수_카드론_B0M             0.0012\n",
      "할부금액_부분_6M_R12M         -0.0012\n",
      "증감_RP건수_가스_전월            0.0009\n",
      "할부건수_무이자_14M_R12M        0.0006\n",
      "증감_RP건수_렌탈_전월           -0.0002\n",
      "할부금액_부분_14M_R12M        -0.0000\n",
      "기준년월                     0.0000\n",
      "dtype: float64\n"
     ]
    }
   ],
   "source": [
    "# 소수점 4자리까지 고정 소수점 표기로 출력\n",
    "pd.set_option('display.max_rows', None)  # 모든 행 출력\n",
    "pd.set_option('display.float_format', '{:.4f}'.format)  # 지수 표기 대신 소수점 표기\n",
    "print(results_series.reindex(results_series.abs().sort_values(ascending=False).index))"
   ]
  },
  {
   "cell_type": "code",
   "execution_count": 21,
   "id": "d583bd5c",
   "metadata": {},
   "outputs": [
    {
     "data": {
      "text/plain": [
       "Index(['ID', '기준년월', '이용금액_일시불_B0M', '이용건수_신용_R12M', '이용건수_신판_R12M',\n",
       "       '이용건수_일시불_R12M', '이용금액_일시불_R12M', '최대이용금액_일시불_R12M', '이용금액_일시불_R6M',\n",
       "       '이용금액_일시불_R3M', '_1순위업종_이용금액', '_2순위업종_이용금액', '_3순위업종_이용금액',\n",
       "       '_1순위쇼핑업종_이용금액', '_2순위쇼핑업종_이용금액', '이용금액_오프라인_R6M', '이용금액_오프라인_R3M',\n",
       "       '이용금액_오프라인_B0M', '정상청구원금_B0M', '정상입금원금_B0M', '정상청구원금_B2M', '정상입금원금_B2M',\n",
       "       '정상청구원금_B5M', '정상입금원금_B5M', '이용금액대'],\n",
       "      dtype='object')"
      ]
     },
     "execution_count": 21,
     "metadata": {},
     "output_type": "execute_result"
    }
   ],
   "source": [
    "filtered_df.columns"
   ]
  },
  {
   "cell_type": "code",
   "execution_count": 62,
   "id": "5e20e400",
   "metadata": {},
   "outputs": [
    {
     "data": {
      "text/plain": [
       "ID                 1.0000\n",
       "정상입금원금_B2M        -0.4001\n",
       "_1순위쇼핑업종_이용금액     -0.4013\n",
       "정상입금원금_B0M        -0.4073\n",
       "_2순위쇼핑업종_이용금액     -0.4091\n",
       "_1순위업종_이용금액       -0.4121\n",
       "정상입금원금_B5M        -0.4139\n",
       "_3순위업종_이용금액       -0.4241\n",
       "_2순위업종_이용금액       -0.4242\n",
       "이용건수_일시불_R12M     -0.4395\n",
       "이용금액_일시불_R3M      -0.4440\n",
       "이용건수_신판_R12M      -0.4454\n",
       "이용금액_일시불_R6M      -0.4469\n",
       "이용금액_오프라인_R6M     -0.4499\n",
       "이용금액_오프라인_R3M     -0.4509\n",
       "이용금액_일시불_B0M      -0.4513\n",
       "이용건수_신용_R12M      -0.4515\n",
       "이용금액_오프라인_B0M     -0.4602\n",
       "최대이용금액_일시불_R12M   -0.4625\n",
       "이용금액_일시불_R12M     -0.4900\n",
       "정상청구원금_B0M        -0.4908\n",
       "정상청구원금_B2M        -0.4920\n",
       "정상청구원금_B5M        -0.5317\n",
       "dtype: float64"
      ]
     },
     "execution_count": 62,
     "metadata": {},
     "output_type": "execute_result"
    }
   ],
   "source": [
    "results_series[results_series.abs() >= 0.4]"
   ]
  },
  {
   "cell_type": "code",
   "execution_count": 23,
   "id": "6e27e242",
   "metadata": {},
   "outputs": [],
   "source": [
    "# 1. 고정 순서로 포함할 컬럼\n",
    "fixed_order = ['기준년월', 'ID']\n",
    "\n",
    "# 2. 상관계수 절댓값 기준으로 필터링된 컬럼들\n",
    "selected_cols = results_series[results_series.abs() >= 0.4].index.tolist()\n",
    "\n",
    "# 3. 고정 컬럼 제외한 나머지 관련 컬럼\n",
    "dynamic_cols = [col for col in selected_cols if col not in fixed_order]\n",
    "\n",
    "# 4. 최종 순서\n",
    "final_order = fixed_order + dynamic_cols\n",
    "\n",
    "# 5. 순서대로 정렬된 DataFrame\n",
    "filtered_df = df_merged[final_order]"
   ]
  },
  {
   "cell_type": "code",
   "execution_count": 55,
   "id": "9d8428d6",
   "metadata": {},
   "outputs": [
    {
     "data": {
      "text/plain": [
       "Index(['기준년월', 'ID', '이용금액_일시불_B0M', '이용건수_신용_R12M', '이용건수_신판_R12M',\n",
       "       '이용건수_일시불_R12M', '이용금액_일시불_R12M', '최대이용금액_일시불_R12M', '이용금액_일시불_R6M',\n",
       "       '이용금액_일시불_R3M', '_1순위업종_이용금액', '_2순위업종_이용금액', '_3순위업종_이용금액',\n",
       "       '_1순위쇼핑업종_이용금액', '_2순위쇼핑업종_이용금액', '이용금액_오프라인_R6M', '이용금액_오프라인_R3M',\n",
       "       '이용금액_오프라인_B0M', '정상청구원금_B0M', '정상입금원금_B0M', '정상청구원금_B2M', '정상입금원금_B2M',\n",
       "       '정상청구원금_B5M', '정상입금원금_B5M', '이용금액대'],\n",
       "      dtype='object')"
      ]
     },
     "execution_count": 55,
     "metadata": {},
     "output_type": "execute_result"
    }
   ],
   "source": [
    "filtered_df.columns"
   ]
  },
  {
   "cell_type": "code",
   "execution_count": 59,
   "id": "20e62314",
   "metadata": {},
   "outputs": [
    {
     "name": "stdout",
     "output_type": "stream",
     "text": [
      "[0.9999999999999997, -0.40014366525015843, -0.40729247915129196, -0.4091105595184029, -0.41207949544542644, -0.413871778724897, -0.42406366962433073, -0.42416002522771534, -0.4394712758814354, -0.45154444492830526, '이용금액_오프라인_R6M', '정상청구원금_B5M', '_3순위업종_이용금액', '_1순위업종_이용금액', '이용금액_일시불_R6M', -0.44993587758299725, -0.489987008657098, '이용금액_일시불_R3M', '_2순위쇼핑업종_이용금액', '정상청구원금_B0M', '_1순위쇼핑업종_이용금액', -0.5317261233141651, '정상입금원금_B5M', -0.4908253011839162, -0.4013161245750258, -0.4624778737205089, -0.44689155518301465, -0.44402249664094867, -0.46016279755427675, -0.4512878952903537, -0.45087409957574426, -0.44537337992301956, -0.4919860185941492, '이용금액_오프라인_B0M', '이용금액_일시불_B0M', '_2순위업종_이용금액', '이용금액_오프라인_R3M', '이용건수_신판_R12M', '이용건수_일시불_R12M', '이용건수_신용_R12M', '최대이용금액_일시불_R12M', '이용금액대', 'ID', '정상입금원금_B2M', '정상청구원금_B2M', '기준년월', '정상입금원금_B0M', '이용금액_일시불_R12M']\n"
     ]
    }
   ],
   "source": [
    "unique_columns = list(set(a).symmetric_difference(set(filtered_df.columns)))\n",
    "print(unique_columns)"
   ]
  },
  {
   "cell_type": "code",
   "execution_count": 60,
   "id": "3c9f3122",
   "metadata": {},
   "outputs": [
    {
     "name": "stdout",
     "output_type": "stream",
     "text": [
      "컬럼 개수: 25\n"
     ]
    }
   ],
   "source": [
    "num_cols = len(filtered_df.columns)\n",
    "print(\"컬럼 개수:\", num_cols)"
   ]
  },
  {
   "cell_type": "code",
   "execution_count": 61,
   "id": "e06ea788",
   "metadata": {},
   "outputs": [
    {
     "data": {
      "text/plain": [
       "Index(['기준년월', 'ID', '이용금액_일시불_B0M', '이용건수_신용_R12M', '이용건수_신판_R12M',\n",
       "       '이용건수_일시불_R12M', '이용금액_일시불_R12M', '최대이용금액_일시불_R12M', '이용금액_일시불_R6M',\n",
       "       '이용금액_일시불_R3M', '_1순위업종_이용금액', '_2순위업종_이용금액', '_3순위업종_이용금액',\n",
       "       '_1순위쇼핑업종_이용금액', '_2순위쇼핑업종_이용금액', '이용금액_오프라인_R6M', '이용금액_오프라인_R3M',\n",
       "       '이용금액_오프라인_B0M', '정상청구원금_B0M', '정상입금원금_B0M', '정상청구원금_B2M', '정상입금원금_B2M',\n",
       "       '정상청구원금_B5M', '정상입금원금_B5M', '이용금액대'],\n",
       "      dtype='object')"
      ]
     },
     "execution_count": 61,
     "metadata": {},
     "output_type": "execute_result"
    }
   ],
   "source": [
    "filtered_df.columns"
   ]
  },
  {
   "cell_type": "code",
   "execution_count": 27,
   "id": "967ba630",
   "metadata": {},
   "outputs": [],
   "source": [
    "#test 데이터도 동일한 컬럼으로 전처리\n",
    "#결측치 확인\n",
    "na_count = filtered_df.isna().sum()\n",
    "for col, cnt in na_count.items():\n",
    "    if cnt > 0:\n",
    "        print(f\"{col}: {cnt}개 결측치\")"
   ]
  },
  {
   "cell_type": "code",
   "execution_count": 29,
   "id": "3255b56b",
   "metadata": {},
   "outputs": [],
   "source": [
    "df77 = pd.read_parquet(r\"C:\\Users\\rtc32\\OneDrive\\바탕 화면\\final_project\\train\\3.승인매출정보\\201807_train_승인매출정보.parquet\")\n",
    "df88= pd.read_parquet(r\"C:\\Users\\rtc32\\OneDrive\\바탕 화면\\final_project\\train\\3.승인매출정보\\201808_train_승인매출정보.parquet\")\n",
    "df99= pd.read_parquet(r\"C:\\Users\\rtc32\\OneDrive\\바탕 화면\\final_project\\train\\3.승인매출정보\\201809_train_승인매출정보.parquet\")\n",
    "df1010 = pd.read_parquet(r\"C:\\Users\\rtc32\\OneDrive\\바탕 화면\\final_project\\train\\3.승인매출정보\\201810_train_승인매출정보.parquet\")\n",
    "df1111 = pd.read_parquet(r\"C:\\Users\\rtc32\\OneDrive\\바탕 화면\\final_project\\train\\3.승인매출정보\\201811_train_승인매출정보.parquet\")\n",
    "df1212 = pd.read_parquet(r\"C:\\Users\\rtc32\\OneDrive\\바탕 화면\\final_project\\train\\3.승인매출정보\\201812_train_승인매출정보.parquet\")\n"
   ]
  },
  {
   "cell_type": "code",
   "execution_count": 30,
   "id": "cfc634b1",
   "metadata": {},
   "outputs": [],
   "source": [
    "dfs = [df77, df88, df99, df1010, df1111, df1212]\n",
    "merged_train_df = pd.concat(dfs, ignore_index=True)"
   ]
  },
  {
   "cell_type": "code",
   "execution_count": 31,
   "id": "8806dfbe",
   "metadata": {},
   "outputs": [],
   "source": [
    "df_merged = pd.merge(merged_train_df, df_train_member, on=['ID', '기준년월'], how='left')"
   ]
  },
  {
   "cell_type": "code",
   "execution_count": 32,
   "id": "bb7ea941",
   "metadata": {},
   "outputs": [],
   "source": [
    "#메모리 사용 최소화를 위한 데이터 타입 변환 단, 수치형데이터 값을 확인했을때 단위가 일정이상 넘으면 사용하면 안됌\n",
    "for col, dtype in df_merged.dtypes.items():\n",
    "    if dtype == 'float64':\n",
    "        df_merged[col] = df_merged[col].astype('float32')\n",
    "    elif dtype == 'int64':\n",
    "        df_merged[col] = df_merged[col].astype('int32')"
   ]
  },
  {
   "cell_type": "code",
   "execution_count": 33,
   "id": "f9ccbd4e",
   "metadata": {},
   "outputs": [
    {
     "name": "stdout",
     "output_type": "stream",
     "text": [
      "_1순위업종: 539992개 결측치\n",
      "_2순위업종: 912725개 결측치\n",
      "_3순위업종: 1107898개 결측치\n",
      "_1순위쇼핑업종: 922663개 결측치\n",
      "_2순위쇼핑업종: 1135042개 결측치\n",
      "_3순위쇼핑업종: 1312267개 결측치\n",
      "_1순위교통업종: 1164494개 결측치\n",
      "_2순위교통업종: 1656423개 결측치\n",
      "_3순위교통업종: 2045455개 결측치\n",
      "_1순위여유업종: 1987260개 결측치\n",
      "_2순위여유업종: 2302286개 결측치\n",
      "_3순위여유업종: 2377725개 결측치\n",
      "_1순위납부업종: 1216263개 결측치\n",
      "_2순위납부업종: 2033640개 결측치\n",
      "_3순위납부업종: 2310187개 결측치\n",
      "최종카드론_금융상환방식코드: 1958126개 결측치\n",
      "최종카드론_신청경로코드: 1958226개 결측치\n",
      "최종카드론_대출일자: 1988330개 결측치\n"
     ]
    }
   ],
   "source": [
    "#test 데이터도 동일한 컬럼으로 전처리\n",
    "#결측치 확인\n",
    "na_count = df_merged.isna().sum()\n",
    "for col, cnt in na_count.items():\n",
    "    if cnt > 0:\n",
    "        print(f\"{col}: {cnt}개 결측치\")"
   ]
  },
  {
   "cell_type": "code",
   "execution_count": 50,
   "id": "d76d6240",
   "metadata": {},
   "outputs": [
    {
     "name": "stdout",
     "output_type": "stream",
     "text": [
      "== _1순위업종 결측 아닌 행의 segment별 개수 ==\n",
      "E: 1410572개\n",
      "D: 327056개\n",
      "C: 121286개\n",
      "A: 950개\n",
      "B: 144개\n",
      "\n",
      "== _2순위업종 결측 아닌 행의 segment별 개수 ==\n",
      "E: 1064402개\n",
      "D: 306308개\n",
      "C: 115488개\n",
      "A: 939개\n",
      "B: 138개\n",
      "\n",
      "== _3순위업종 결측 아닌 행의 segment별 개수 ==\n",
      "E: 891918개\n",
      "D: 288912개\n",
      "C: 110218개\n",
      "A: 917개\n",
      "B: 137개\n",
      "\n",
      "== _1순위쇼핑업종 결측 아닌 행의 segment별 개수 ==\n",
      "E: 1059086개\n",
      "D: 302874개\n",
      "C: 114306개\n",
      "A: 927개\n",
      "B: 144개\n",
      "\n",
      "== _2순위쇼핑업종 결측 아닌 행의 segment별 개수 ==\n",
      "E: 876108개\n",
      "D: 280714개\n",
      "C: 107091개\n",
      "A: 909개\n",
      "B: 136개\n",
      "\n",
      "== _3순위쇼핑업종 결측 아닌 행의 segment별 개수 ==\n",
      "E: 726866개\n",
      "D: 259373개\n",
      "C: 100477개\n",
      "A: 883개\n",
      "B: 134개\n",
      "\n",
      "== _1순위교통업종 결측 아닌 행의 segment별 개수 ==\n",
      "E: 851755개\n",
      "D: 276000개\n",
      "C: 106736개\n",
      "A: 887개\n",
      "B: 128개\n",
      "\n",
      "== _2순위교통업종 결측 아닌 행의 segment별 개수 ==\n",
      "E: 455807개\n",
      "D: 202214개\n",
      "C: 84656개\n",
      "A: 782개\n",
      "B: 118개\n",
      "\n",
      "== _3순위교통업종 결측 아닌 행의 segment별 개수 ==\n",
      "E: 186065개\n",
      "D: 113190개\n",
      "C: 54610개\n",
      "A: 605개\n",
      "B: 75개\n",
      "\n",
      "== _1순위여유업종 결측 아닌 행의 segment별 개수 ==\n",
      "E: 237190개\n",
      "D: 117817개\n",
      "C: 56943개\n",
      "A: 684개\n",
      "B: 106개\n",
      "\n",
      "== _2순위여유업종 결측 아닌 행의 segment별 개수 ==\n",
      "E: 43444개\n",
      "D: 32523개\n",
      "C: 21267개\n",
      "A: 404개\n",
      "B: 76개\n",
      "\n",
      "== _3순위여유업종 결측 아닌 행의 segment별 개수 ==\n",
      "D: 7619개\n",
      "E: 7509개\n",
      "C: 6894개\n",
      "A: 213개\n",
      "B: 40개\n",
      "\n",
      "== _1순위납부업종 결측 아닌 행의 segment별 개수 ==\n",
      "E: 856119개\n",
      "D: 235527개\n",
      "C: 91164개\n",
      "A: 804개\n",
      "B: 123개\n",
      "\n",
      "== _2순위납부업종 결측 아닌 행의 segment별 개수 ==\n",
      "E: 209073개\n",
      "D: 108407개\n",
      "C: 48314개\n",
      "A: 483개\n",
      "B: 83개\n",
      "\n",
      "== _3순위납부업종 결측 아닌 행의 segment별 개수 ==\n",
      "E: 40089개\n",
      "D: 32462개\n",
      "C: 17038개\n",
      "A: 179개\n",
      "B: 45개\n",
      "\n",
      "== 최종카드론_금융상환방식코드 결측 아닌 행의 segment별 개수 ==\n",
      "E: 305334개\n",
      "D: 93671개\n",
      "C: 42395개\n",
      "A: 396개\n",
      "B: 78개\n",
      "\n",
      "== 최종카드론_신청경로코드 결측 아닌 행의 segment별 개수 ==\n",
      "E: 305345개\n",
      "D: 93603개\n",
      "C: 42354개\n",
      "A: 394개\n",
      "B: 78개\n",
      "\n",
      "== 최종카드론_대출일자 결측 아닌 행의 segment별 개수 ==\n",
      "E: 284920개\n",
      "D: 87798개\n",
      "C: 38604개\n",
      "A: 282개\n",
      "B: 66개\n",
      "\n"
     ]
    }
   ],
   "source": [
    "cols_with_na = [col for col in df_merged.columns if df_merged[col].isna().sum() > 0]\n",
    "\n",
    "for col in cols_with_na:\n",
    "    print(f\"== {col} 결측 아닌 행의 segment별 개수 ==\")\n",
    "    counts = df_merged[df_merged[col].notna()]['Segment'].value_counts()\n",
    "    for seg, cnt in counts.items():\n",
    "        print(f\"{seg}: {cnt}개\")\n",
    "    print()  # 컬럼별 구분용 빈 줄"
   ]
  },
  {
   "cell_type": "code",
   "execution_count": 63,
   "id": "66e1591b",
   "metadata": {},
   "outputs": [
    {
     "name": "stdout",
     "output_type": "stream",
     "text": [
      "_2순위여유업종          0.1317\n",
      "_1순위업종            0.1161\n",
      "_3순위여유업종          0.1052\n",
      "_2순위업종            0.1024\n",
      "_3순위쇼핑업종          0.0978\n",
      "_1순위쇼핑업종          0.0973\n",
      "_3순위업종            0.0917\n",
      "_1순위여유업종          0.0850\n",
      "_1순위교통업종          0.0843\n",
      "최종카드론_금융상환방식코드    0.0842\n",
      "_2순위쇼핑업종          0.0809\n",
      "최종카드론_신청경로코드      0.0726\n",
      "_2순위교통업종          0.0674\n",
      "_1순위납부업종          0.0666\n",
      "_3순위교통업종          0.0594\n",
      "_3순위납부업종          0.0503\n",
      "_2순위납부업종          0.0312\n",
      "최종카드론_대출일자       -0.0424\n",
      "dtype: float64\n"
     ]
    }
   ],
   "source": [
    "import pandas as pd\n",
    "import numpy as np\n",
    "from sklearn.preprocessing import LabelEncoder\n",
    "from scipy.stats import spearmanr, chi2_contingency\n",
    "\n",
    "def cramers_v(x, y):\n",
    "    confusion_matrix = pd.crosstab(x, y)\n",
    "    chi2 = chi2_contingency(confusion_matrix)[0]\n",
    "    n = confusion_matrix.sum().sum()\n",
    "    phi2 = chi2 / n\n",
    "    r, k = confusion_matrix.shape\n",
    "    return np.sqrt(phi2 / min(k - 1, r - 1))\n",
    "\n",
    "# 순서형 변수 라벨 인코딩 (Segment와 이용금액대)\n",
    "segment_col = 'Segment'\n",
    "amount_col = '이용금액대'\n",
    "\n",
    "# 원본 유지하고 복사\n",
    "df = df_merged.copy()\n",
    "\n",
    "# Segment 라벨 인코딩 (순서형)\n",
    "le_segment = LabelEncoder()\n",
    "df['Segment_encoded'] = le_segment.fit_transform(df[segment_col])\n",
    "\n",
    "# 이용금액대 라벨 인코딩 (순서형)\n",
    "le_amount = LabelEncoder()\n",
    "df['이용금액대_encoded'] = le_amount.fit_transform(df[amount_col])\n",
    "\n",
    "# 결과 저장\n",
    "results = {}\n",
    "\n",
    "# 결측치가 있는 컬럼만 대상으로 상관계수 계산\n",
    "for col in df.columns:\n",
    "    if col in [segment_col, 'Segment_encoded', '이용금액대', '이용금액대_encoded']:\n",
    "        continue\n",
    "    if df[col].isna().sum() == 0:\n",
    "        continue  # 결측치 없는 컬럼은 건너뜀\n",
    "\n",
    "    # 해당 컬럼 기준 결측치 제거\n",
    "    temp_df = df[[col, 'Segment_encoded']].dropna()\n",
    "    \n",
    "    if temp_df.shape[0] < 2:\n",
    "        results[col] = np.nan\n",
    "        continue\n",
    "\n",
    "    if np.issubdtype(df[col].dtype, np.datetime64):\n",
    "        coef, _ = spearmanr(temp_df[col].view('int64'), temp_df['Segment_encoded'], nan_policy='omit')\n",
    "        results[col] = coef\n",
    "    elif pd.api.types.is_numeric_dtype(df[col]):\n",
    "        coef, _ = spearmanr(temp_df[col], temp_df['Segment_encoded'], nan_policy='omit')\n",
    "        results[col] = coef\n",
    "    else:\n",
    "        # 범주형 변수인 경우\n",
    "        results[col] = cramers_v(temp_df[col], temp_df['Segment_encoded'])\n",
    "\n",
    "# 결과 저장 및 출력\n",
    "results_series = pd.Series(results).sort_values(ascending=False)\n",
    "print(results_series)"
   ]
  },
  {
   "cell_type": "code",
   "execution_count": 65,
   "id": "61cf7e8d",
   "metadata": {},
   "outputs": [
    {
     "data": {
      "text/plain": [
       "Index(['기준년월', 'ID', '이용금액_일시불_B0M', '이용건수_신용_R12M', '이용건수_신판_R12M',\n",
       "       '이용건수_일시불_R12M', '이용금액_일시불_R12M', '최대이용금액_일시불_R12M', '이용금액_일시불_R6M',\n",
       "       '이용금액_일시불_R3M', '_1순위업종_이용금액', '_2순위업종_이용금액', '_3순위업종_이용금액',\n",
       "       '_1순위쇼핑업종_이용금액', '_2순위쇼핑업종_이용금액', '이용금액_오프라인_R6M', '이용금액_오프라인_R3M',\n",
       "       '이용금액_오프라인_B0M', '정상청구원금_B0M', '정상입금원금_B0M', '정상청구원금_B2M', '정상입금원금_B2M',\n",
       "       '정상청구원금_B5M', '정상입금원금_B5M', '이용금액대'],\n",
       "      dtype='object')"
      ]
     },
     "execution_count": 65,
     "metadata": {},
     "output_type": "execute_result"
    }
   ],
   "source": [
    "filtered_df.columns\n"
   ]
  },
  {
   "cell_type": "code",
   "execution_count": 70,
   "id": "388448f0",
   "metadata": {},
   "outputs": [],
   "source": [
    "df_trian = df_trian[filtered_df.columns]\n",
    "df_test = df_test[filtered_df.columns]"
   ]
  },
  {
   "cell_type": "code",
   "execution_count": 69,
   "id": "f89c113d",
   "metadata": {},
   "outputs": [
    {
     "data": {
      "text/plain": [
       "기준년월                int32\n",
       "ID                 object\n",
       "이용금액_일시불_B0M        int32\n",
       "이용건수_신용_R12M        int32\n",
       "이용건수_신판_R12M        int32\n",
       "이용건수_일시불_R12M       int32\n",
       "이용금액_일시불_R12M       int32\n",
       "최대이용금액_일시불_R12M     int32\n",
       "이용금액_일시불_R6M        int32\n",
       "이용금액_일시불_R3M        int32\n",
       "_1순위업종_이용금액         int32\n",
       "_2순위업종_이용금액         int32\n",
       "_3순위업종_이용금액         int32\n",
       "_1순위쇼핑업종_이용금액       int32\n",
       "_2순위쇼핑업종_이용금액       int32\n",
       "이용금액_오프라인_R6M       int32\n",
       "이용금액_오프라인_R3M       int32\n",
       "이용금액_오프라인_B0M       int32\n",
       "정상청구원금_B0M          int32\n",
       "정상입금원금_B0M          int32\n",
       "정상청구원금_B2M          int32\n",
       "정상입금원금_B2M          int32\n",
       "정상청구원금_B5M          int32\n",
       "정상입금원금_B5M          int32\n",
       "이용금액대              object\n",
       "dtype: object"
      ]
     },
     "execution_count": 69,
     "metadata": {},
     "output_type": "execute_result"
    }
   ],
   "source": [
    "df_trian.dtypes"
   ]
  },
  {
   "cell_type": "code",
   "execution_count": 71,
   "id": "5adf8361",
   "metadata": {},
   "outputs": [
    {
     "data": {
      "text/plain": [
       "(600000, 25)"
      ]
     },
     "execution_count": 71,
     "metadata": {},
     "output_type": "execute_result"
    }
   ],
   "source": [
    "df_test.shape"
   ]
  },
  {
   "cell_type": "code",
   "execution_count": 75,
   "id": "b4e52493",
   "metadata": {},
   "outputs": [
    {
     "data": {
      "text/plain": [
       "기준년월                int32\n",
       "ID                 object\n",
       "이용금액_일시불_B0M        int32\n",
       "이용건수_신용_R12M        int32\n",
       "이용건수_신판_R12M        int32\n",
       "이용건수_일시불_R12M       int32\n",
       "이용금액_일시불_R12M       int32\n",
       "최대이용금액_일시불_R12M     int32\n",
       "이용금액_일시불_R6M        int32\n",
       "이용금액_일시불_R3M        int32\n",
       "_1순위업종_이용금액         int32\n",
       "_2순위업종_이용금액         int32\n",
       "_3순위업종_이용금액         int32\n",
       "_1순위쇼핑업종_이용금액       int32\n",
       "_2순위쇼핑업종_이용금액       int32\n",
       "이용금액_오프라인_R6M       int32\n",
       "이용금액_오프라인_R3M       int32\n",
       "이용금액_오프라인_B0M       int32\n",
       "정상청구원금_B0M          int32\n",
       "정상입금원금_B0M          int32\n",
       "정상청구원금_B2M          int32\n",
       "정상입금원금_B2M          int32\n",
       "정상청구원금_B5M          int32\n",
       "정상입금원금_B5M          int32\n",
       "이용금액대              object\n",
       "dtype: object"
      ]
     },
     "execution_count": 75,
     "metadata": {},
     "output_type": "execute_result"
    }
   ],
   "source": [
    "df_test.dtypes"
   ]
  },
  {
   "cell_type": "code",
   "execution_count": 76,
   "id": "22ba72c1",
   "metadata": {},
   "outputs": [],
   "source": [
    "df_trian.to_parquet(\"3.승인매출정보_전처리완_2.parquet\")\n",
    "df_test.to_parquet(\"3.승인매출정보_test_전처리완_2.parquet\")"
   ]
  },
  {
   "cell_type": "code",
   "execution_count": null,
   "id": "c902b414",
   "metadata": {},
   "outputs": [],
   "source": []
  }
 ],
 "metadata": {
  "kernelspec": {
   "display_name": "base",
   "language": "python",
   "name": "python3"
  },
  "language_info": {
   "codemirror_mode": {
    "name": "ipython",
    "version": 3
   },
   "file_extension": ".py",
   "mimetype": "text/x-python",
   "name": "python",
   "nbconvert_exporter": "python",
   "pygments_lexer": "ipython3",
   "version": "3.12.7"
  }
 },
 "nbformat": 4,
 "nbformat_minor": 5
}
