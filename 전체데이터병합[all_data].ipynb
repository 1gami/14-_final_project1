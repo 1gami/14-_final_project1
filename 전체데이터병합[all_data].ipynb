{
 "cells": [
  {
   "cell_type": "code",
   "execution_count": null,
   "id": "6ab68509",
   "metadata": {},
   "outputs": [],
   "source": [
    "import pandas as pd\n",
    "import gc\n",
    "df1 = pd.read_parquet('1.회원정보_전처리완.parquet')\n",
    "df2 = pd.read_parquet('2.신용정보_전처리완.parquet')\n",
    "df3 = pd.read_parquet('3.승인매출정보_전처리완.parquet')\n",
    "df4 = pd.read_parquet('4.청구입금정보_전처리완.parquet')\n",
    "df5 = pd.read_parquet('5.잔액정보_전처리완.parquet')\n",
    "df6 = pd.read_parquet('6.채널정보_전처리완.parquet')\n",
    "df7 = pd.read_parquet('7.마켓팅정보_전처리완.parquet')\n",
    "df8 = pd.read_parquet('8.성과정보_전처리완.parquet')\n",
    "\n",
    "\n",
    "dfs = [df2, df3, df4, df5, df6, df7, df8]\n",
    "del df2\n",
    "del df3\n",
    "del df4\n",
    "del df5\n",
    "del df6\n",
    "del df7\n",
    "del df8\n",
    "gc.collect()\n",
    "\n",
    "result = df1.copy()\n",
    "for df in dfs:\n",
    "    result = pd.merge(result, df, on=['ID', '기준년월'], how='left')\n",
    "\n",
    "result.to_parquet('data_all.parquet')\n",
    "\n",
    "result.shape\n",
    "# (2400000, 747)"
   ]
  }
 ],
 "metadata": {
  "language_info": {
   "name": "python"
  }
 },
 "nbformat": 4,
 "nbformat_minor": 5
}
